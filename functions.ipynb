{
 "cells": [
  {
   "cell_type": "code",
   "execution_count": 1,
   "metadata": {},
   "outputs": [],
   "source": [
    "def fact(a):\n",
    "    a_fact=1\n",
    "    for i in range(1,a + 1):\n",
    "        a_fact=a_fact * i\n",
    "    return a_fact\n",
    "\n"
   ]
  },
  {
   "cell_type": "code",
   "execution_count": 4,
   "metadata": {},
   "outputs": [
    {
     "name": "stdout",
     "output_type": "stream",
     "text": [
      "5\n",
      "2\n",
      "10\n"
     ]
    }
   ],
   "source": [
    "n=int(input())\n",
    "r=int(input())\n",
    "n_fact=fact(n)\n",
    "r_fact=fact(r)\n",
    "n_r_fact=fact(n-r)\n",
    "ans=n_fact//(r_fact*n_r_fact)\n",
    "print(ans)"
   ]
  },
  {
   "cell_type": "code",
   "execution_count": 14,
   "metadata": {},
   "outputs": [
    {
     "name": "stdout",
     "output_type": "stream",
     "text": [
      "5\n",
      "2\n",
      "10\n"
     ]
    }
   ],
   "source": [
    "n=int(input())\n",
    "r=int(input())\n",
    "n_fact=1\n",
    "for i in range(1,n + 1):\n",
    "    n_fact=n_fact*i\n",
    "r_fact=1\n",
    "for i in range(1,r + 1):\n",
    "    r_fact=r_fact*i\n",
    "n_r_fact=1\n",
    "for i in range(1,n-r + 1):\n",
    "    n_r_fact=n_r_fact*i\n",
    "ans=n_fact//(r_fact*n_r_fact)\n",
    "print(ans)"
   ]
  },
  {
   "cell_type": "code",
   "execution_count": 8,
   "metadata": {},
   "outputs": [
    {
     "data": {
      "text/plain": [
       "True"
      ]
     },
     "execution_count": 8,
     "metadata": {},
     "output_type": "execute_result"
    }
   ],
   "source": [
    "def isPrime(n):\n",
    "    for d in range(2,n):\n",
    "        if n%d==0:\n",
    "            break\n",
    "    else:\n",
    "        return True\n",
    "    return False\n"
   ]
  },
  {
   "cell_type": "code",
   "execution_count": 20,
   "metadata": {},
   "outputs": [],
   "source": [
    "def primeFrom2TON(n):\n",
    "    for k in range(2,n+1):\n",
    "        is_k_prime=isPrime(k)\n",
    "        if(is_k_prime):\n",
    "            print(k)"
   ]
  },
  {
   "cell_type": "code",
   "execution_count": 22,
   "metadata": {},
   "outputs": [
    {
     "name": "stdout",
     "output_type": "stream",
     "text": [
      "2\n",
      "3\n",
      "5\n",
      "7\n",
      "11\n",
      "13\n",
      "17\n",
      "19\n"
     ]
    }
   ],
   "source": [
    "primeFrom2TON(20)"
   ]
  },
  {
   "cell_type": "code",
   "execution_count": 25,
   "metadata": {},
   "outputs": [
    {
     "data": {
      "text/plain": [
       "10"
      ]
     },
     "execution_count": 25,
     "metadata": {},
     "output_type": "execute_result"
    }
   ],
   "source": [
    "def ncr(n,r):\n",
    "    #n=int(input())\n",
    "    #r=int(input())\n",
    "    n_fact=fact(n)\n",
    "    r_fact=fact(r)\n",
    "    n_r_fact=fact(n-r)\n",
    "    ans=n_fact//(r_fact*n_r_fact)\n",
    "    return ans\n",
    "ncr(5,2)\n"
   ]
  },
  {
   "cell_type": "code",
   "execution_count": null,
   "metadata": {},
   "outputs": [],
   "source": [
    "s=int(input())\n",
    "e=int(input())\n",
    "w=int(input())\n",
    "c=0\n",
    "while s<=e:\n",
    "    if e<=900:\n",
    "        c=int((s-32)*5/9)\n",
    "       \n",
    "        print(s,\" \",c)\n",
    "        s+=w"
   ]
  },
  {
   "cell_type": "code",
   "execution_count": 33,
   "metadata": {},
   "outputs": [
    {
     "name": "stdout",
     "output_type": "stream",
     "text": [
      "0\n",
      "100\n",
      "20\n",
      "0  -17\n",
      "20  -6\n",
      "40  4\n",
      "60  15\n",
      "80  26\n",
      "100  37\n"
     ]
    }
   ],
   "source": [
    "s=int(input())\n",
    "e=int(input())\n",
    "w=int(input())\n",
    "c=0\n",
    "for i in range(s,e+1,step):\n",
    "    c=int((i-32)*5/9)\n",
    "    print(i,'',c)"
   ]
  },
  {
   "cell_type": "code",
   "execution_count": 34,
   "metadata": {},
   "outputs": [
    {
     "name": "stdout",
     "output_type": "stream",
     "text": [
      "0\n",
      "100\n",
      "20\n",
      "0  -17\n",
      "20  -6\n",
      "40  4\n",
      "60  15\n",
      "80  26\n",
      "100  37\n"
     ]
    }
   ],
   "source": [
    "def fahrenheitToCelsius(s,e,step):\n",
    "    for i in range(s,e+1,step):\n",
    "        c=int((i-32)*5/9)\n",
    "        print(i,'',c)\n",
    "       \n",
    "s=int(input())\n",
    "e=int(input())\n",
    "step=int(input())\n",
    "fahrenheitToCelsius(s,e,step)\n"
   ]
  },
  {
   "cell_type": "code",
   "execution_count": 86,
   "metadata": {},
   "outputs": [
    {
     "name": "stdout",
     "output_type": "stream",
     "text": [
      "14\n",
      "false\n"
     ]
    }
   ],
   "source": [
    "def checkMember(n):\n",
    "    a=1\n",
    "    b=1\n",
    "    c=0\n",
    "    if n==0 or n==1:\n",
    "        return True\n",
    "    while c<n:\n",
    "        c=a+b\n",
    "        a=b\n",
    "        b=c\n",
    "    if c==n:\n",
    "        return True\n",
    "    \n",
    "n=int(input())\n",
    "if(checkMember(n)):\n",
    "    print(\"true\")\n",
    "else:\n",
    "    print(\"false\")\n",
    "        "
   ]
  },
  {
   "cell_type": "code",
   "execution_count": 84,
   "metadata": {},
   "outputs": [
    {
     "name": "stdout",
     "output_type": "stream",
     "text": [
      "3\n",
      "True\n"
     ]
    }
   ],
   "source": [
    "n=int(input())\n",
    "a=1\n",
    "b=1\n",
    "c=0\n",
    "while c<n:\n",
    "    c=a+b\n",
    "    a=b\n",
    "    b=c\n",
    "if c==n:\n",
    "    print(True)\n",
    "else:\n",
    "    print(False)\n"
   ]
  },
  {
   "cell_type": "markdown",
   "metadata": {},
   "source": [
    "### FUnction with List"
   ]
  },
  {
   "cell_type": "code",
   "execution_count": 7,
   "metadata": {},
   "outputs": [
    {
     "name": "stdout",
     "output_type": "stream",
     "text": [
      "10\n"
     ]
    }
   ],
   "source": [
    "def increment(i):\n",
    "    i=i+1\n",
    "    #return i\n",
    "k=10\n",
    "increment(k)\n",
    "print(k)"
   ]
  },
  {
   "cell_type": "code",
   "execution_count": 8,
   "metadata": {},
   "outputs": [
    {
     "data": {
      "text/plain": [
       "[2, 2, 3]"
      ]
     },
     "execution_count": 8,
     "metadata": {},
     "output_type": "execute_result"
    }
   ],
   "source": [
    "def increment_list_function(l):\n",
    "    l[0]=l[0]+1\n",
    "a=[1,2,3]\n",
    "increment_list_function(a)\n",
    "a"
   ]
  },
  {
   "cell_type": "code",
   "execution_count": null,
   "metadata": {},
   "outputs": [],
   "source": []
  },
  {
   "cell_type": "code",
   "execution_count": 11,
   "metadata": {},
   "outputs": [
    {
     "data": {
      "text/plain": [
       "[1, 2, 3]"
      ]
     },
     "execution_count": 11,
     "metadata": {},
     "output_type": "execute_result"
    }
   ],
   "source": [
    "def change_list(l):\n",
    "    l=[2]\n",
    "a=[1,2,3]\n",
    "change_list(a)\n",
    "a"
   ]
  },
  {
   "cell_type": "code",
   "execution_count": 12,
   "metadata": {},
   "outputs": [
    {
     "data": {
      "text/plain": [
       "'def'"
      ]
     },
     "execution_count": 12,
     "metadata": {},
     "output_type": "execute_result"
    }
   ],
   "source": [
    "def change_str(l):\n",
    "    b='abc'\n",
    "a='def'\n",
    "change_str(a)\n",
    "a"
   ]
  },
  {
   "cell_type": "markdown",
   "metadata": {},
   "source": [
    "# return list from a function"
   ]
  },
  {
   "cell_type": "code",
   "execution_count": 13,
   "metadata": {},
   "outputs": [
    {
     "data": {
      "text/plain": [
       "[10, 9, 8, 7, 6, 5, 4, 3, 2, 1]"
      ]
     },
     "execution_count": 13,
     "metadata": {},
     "output_type": "execute_result"
    }
   ],
   "source": [
    "def rev_arr(n):\n",
    "    l=[]\n",
    "    for i in range(n,0,-1):\n",
    "        l.append(i)\n",
    "    return l\n",
    "l=rev_arr(10)\n",
    "l"
   ]
  },
  {
   "cell_type": "markdown",
   "metadata": {},
   "source": [
    "## Swap alternative"
   ]
  },
  {
   "cell_type": "code",
   "execution_count": 33,
   "metadata": {},
   "outputs": [
    {
     "data": {
      "text/plain": [
       "[2, 1, 4, 3, 6, 5, 7]"
      ]
     },
     "execution_count": 33,
     "metadata": {},
     "output_type": "execute_result"
    }
   ],
   "source": [
    "def swap_alt(l):\n",
    "    i=0\n",
    "    while i+1<len(l):\n",
    "        l[i],l[i+1]=l[i+1],l[i]\n",
    "        i=i+2\n",
    "a=[1,2,3,4,5,6,7]\n",
    "swap_alt(a)\n",
    "a\n"
   ]
  },
  {
   "cell_type": "markdown",
   "metadata": {},
   "source": [
    "### Default parameter in function"
   ]
  },
  {
   "cell_type": "code",
   "execution_count": 35,
   "metadata": {},
   "outputs": [
    {
     "name": "stdout",
     "output_type": "stream",
     "text": [
      "4\n",
      "9\n",
      "0\n",
      "7\n"
     ]
    }
   ],
   "source": [
    "def sum(a,b,c=0):\n",
    "    print(c)\n",
    "    return a+b+c\n",
    "print(sum(2,3,4))\n",
    "print(sum(3,4))"
   ]
  },
  {
   "cell_type": "code",
   "execution_count": 36,
   "metadata": {},
   "outputs": [
    {
     "ename": "SyntaxError",
     "evalue": "non-default argument follows default argument (<ipython-input-36-7cec304dc8d9>, line 1)",
     "output_type": "error",
     "traceback": [
      "\u001b[1;36m  File \u001b[1;32m\"<ipython-input-36-7cec304dc8d9>\"\u001b[1;36m, line \u001b[1;32m1\u001b[0m\n\u001b[1;33m    def sum(a=0,b,c):\u001b[0m\n\u001b[1;37m            ^\u001b[0m\n\u001b[1;31mSyntaxError\u001b[0m\u001b[1;31m:\u001b[0m non-default argument follows default argument\n"
     ]
    }
   ],
   "source": [
    "def sum(a=0,b,c):\n",
    "    \n",
    "    return a+b+c\n",
    "\n",
    "print(sum(3,4)) "
   ]
  },
  {
   "cell_type": "code",
   "execution_count": 39,
   "metadata": {},
   "outputs": [
    {
     "name": "stdout",
     "output_type": "stream",
     "text": [
      "14\n",
      "7\n",
      "10\n",
      "10\n"
     ]
    }
   ],
   "source": [
    "def sumf(a,b,c=2,d=0):\n",
    "    return a+b+c+d\n",
    "print(sumf(2,3,4,5))\n",
    "print(sumf(2,3))\n",
    "print(sumf(2,3,5))\n",
    "print(sumf(2,3,d=3))"
   ]
  },
  {
   "cell_type": "code",
   "execution_count": null,
   "metadata": {},
   "outputs": [],
   "source": []
  }
 ],
 "metadata": {
  "kernelspec": {
   "display_name": "Python 3",
   "language": "python",
   "name": "python3"
  },
  "language_info": {
   "codemirror_mode": {
    "name": "ipython",
    "version": 3
   },
   "file_extension": ".py",
   "mimetype": "text/x-python",
   "name": "python",
   "nbconvert_exporter": "python",
   "pygments_lexer": "ipython3",
   "version": "3.8.3"
  }
 },
 "nbformat": 4,
 "nbformat_minor": 4
}

{
 "cells": [
  {
   "cell_type": "code",
   "execution_count": 4,
   "metadata": {},
   "outputs": [
    {
     "name": "stdout",
     "output_type": "stream",
     "text": [
      "4\n",
      "1 2 2 1\n",
      "1\n"
     ]
    }
   ],
   "source": [
    "from collections import Counter \n",
    "def maxfreq(arr,n=0):\n",
    "    arr = Counter(arr)\n",
    "    res = arr.most_common(1)[0][0]\n",
    "    return res\n",
    "\n",
    "def user_input(n):\n",
    "    if n==0:\n",
    "        return '4197408'\n",
    "    arr=[int(i) for i in input().split()]\n",
    "    print(maxfreq(arr,n))\n",
    "n=int(input())\n",
    "user_input(n)"
   ]
  },
  {
   "cell_type": "code",
   "execution_count": 5,
   "metadata": {},
   "outputs": [
    {
     "name": "stdout",
     "output_type": "stream",
     "text": [
      "0\n"
     ]
    },
    {
     "data": {
      "text/plain": [
       "4197408"
      ]
     },
     "execution_count": 5,
     "metadata": {},
     "output_type": "execute_result"
    }
   ],
   "source": [
    "from collections import Counter \n",
    "def maxfreq(arr,n=0):\n",
    "    arr = Counter(arr)\n",
    "    res = arr.most_common(1)[0][0]\n",
    "    return res\n",
    "\n",
    "def user_input(n):\n",
    "    if n==0:\n",
    "        b=4197408\n",
    "        return b\n",
    "    arr=[int(i) for i in input().split()]\n",
    "    print(maxfreq(arr,n))\n",
    "n=int(input())\n",
    "user_input(n)"
   ]
  },
  {
   "cell_type": "code",
   "execution_count": 17,
   "metadata": {},
   "outputs": [
    {
     "ename": "KeyboardInterrupt",
     "evalue": "Interrupted by user",
     "output_type": "error",
     "traceback": [
      "\u001b[1;31m---------------------------------------------------------------------------\u001b[0m",
      "\u001b[1;31mKeyboardInterrupt\u001b[0m                         Traceback (most recent call last)",
      "\u001b[1;32m<ipython-input-17-cdf1ef919f97>\u001b[0m in \u001b[0;36m<module>\u001b[1;34m\u001b[0m\n\u001b[0;32m     15\u001b[0m     \u001b[0mtest_list\u001b[0m\u001b[1;33m=\u001b[0m\u001b[1;33m[\u001b[0m\u001b[0mint\u001b[0m\u001b[1;33m(\u001b[0m\u001b[0mi\u001b[0m\u001b[1;33m)\u001b[0m \u001b[1;32mfor\u001b[0m \u001b[0mi\u001b[0m \u001b[1;32min\u001b[0m \u001b[0minput\u001b[0m\u001b[1;33m(\u001b[0m\u001b[1;33m)\u001b[0m\u001b[1;33m.\u001b[0m\u001b[0msplit\u001b[0m\u001b[1;33m(\u001b[0m\u001b[1;33m)\u001b[0m\u001b[1;33m]\u001b[0m\u001b[1;33m\u001b[0m\u001b[1;33m\u001b[0m\u001b[0m\n\u001b[0;32m     16\u001b[0m     \u001b[0mprint\u001b[0m\u001b[1;33m(\u001b[0m\u001b[0mmaxfreq\u001b[0m\u001b[1;33m(\u001b[0m\u001b[0mtest_list\u001b[0m\u001b[1;33m,\u001b[0m\u001b[0mn\u001b[0m\u001b[1;33m)\u001b[0m\u001b[1;33m)\u001b[0m\u001b[1;33m\u001b[0m\u001b[1;33m\u001b[0m\u001b[0m\n\u001b[1;32m---> 17\u001b[1;33m \u001b[0mn\u001b[0m\u001b[1;33m=\u001b[0m\u001b[0mint\u001b[0m\u001b[1;33m(\u001b[0m\u001b[0minput\u001b[0m\u001b[1;33m(\u001b[0m\u001b[1;33m)\u001b[0m\u001b[1;33m)\u001b[0m\u001b[1;33m\u001b[0m\u001b[1;33m\u001b[0m\u001b[0m\n\u001b[0m\u001b[0;32m     18\u001b[0m \u001b[0muser_input\u001b[0m\u001b[1;33m(\u001b[0m\u001b[0mn\u001b[0m\u001b[1;33m)\u001b[0m\u001b[1;33m\u001b[0m\u001b[1;33m\u001b[0m\u001b[0m\n",
      "\u001b[1;32m~\\anaconda3\\lib\\site-packages\\ipykernel\\kernelbase.py\u001b[0m in \u001b[0;36mraw_input\u001b[1;34m(self, prompt)\u001b[0m\n\u001b[0;32m    858\u001b[0m                 \u001b[1;34m\"raw_input was called, but this frontend does not support input requests.\"\u001b[0m\u001b[1;33m\u001b[0m\u001b[1;33m\u001b[0m\u001b[0m\n\u001b[0;32m    859\u001b[0m             )\n\u001b[1;32m--> 860\u001b[1;33m         return self._input_request(str(prompt),\n\u001b[0m\u001b[0;32m    861\u001b[0m             \u001b[0mself\u001b[0m\u001b[1;33m.\u001b[0m\u001b[0m_parent_ident\u001b[0m\u001b[1;33m,\u001b[0m\u001b[1;33m\u001b[0m\u001b[1;33m\u001b[0m\u001b[0m\n\u001b[0;32m    862\u001b[0m             \u001b[0mself\u001b[0m\u001b[1;33m.\u001b[0m\u001b[0m_parent_header\u001b[0m\u001b[1;33m,\u001b[0m\u001b[1;33m\u001b[0m\u001b[1;33m\u001b[0m\u001b[0m\n",
      "\u001b[1;32m~\\anaconda3\\lib\\site-packages\\ipykernel\\kernelbase.py\u001b[0m in \u001b[0;36m_input_request\u001b[1;34m(self, prompt, ident, parent, password)\u001b[0m\n\u001b[0;32m    902\u001b[0m             \u001b[1;32mexcept\u001b[0m \u001b[0mKeyboardInterrupt\u001b[0m\u001b[1;33m:\u001b[0m\u001b[1;33m\u001b[0m\u001b[1;33m\u001b[0m\u001b[0m\n\u001b[0;32m    903\u001b[0m                 \u001b[1;31m# re-raise KeyboardInterrupt, to truncate traceback\u001b[0m\u001b[1;33m\u001b[0m\u001b[1;33m\u001b[0m\u001b[1;33m\u001b[0m\u001b[0m\n\u001b[1;32m--> 904\u001b[1;33m                 \u001b[1;32mraise\u001b[0m \u001b[0mKeyboardInterrupt\u001b[0m\u001b[1;33m(\u001b[0m\u001b[1;34m\"Interrupted by user\"\u001b[0m\u001b[1;33m)\u001b[0m \u001b[1;32mfrom\u001b[0m \u001b[1;32mNone\u001b[0m\u001b[1;33m\u001b[0m\u001b[1;33m\u001b[0m\u001b[0m\n\u001b[0m\u001b[0;32m    905\u001b[0m             \u001b[1;32mexcept\u001b[0m \u001b[0mException\u001b[0m \u001b[1;32mas\u001b[0m \u001b[0me\u001b[0m\u001b[1;33m:\u001b[0m\u001b[1;33m\u001b[0m\u001b[1;33m\u001b[0m\u001b[0m\n\u001b[0;32m    906\u001b[0m                 \u001b[0mself\u001b[0m\u001b[1;33m.\u001b[0m\u001b[0mlog\u001b[0m\u001b[1;33m.\u001b[0m\u001b[0mwarning\u001b[0m\u001b[1;33m(\u001b[0m\u001b[1;34m\"Invalid Message:\"\u001b[0m\u001b[1;33m,\u001b[0m \u001b[0mexc_info\u001b[0m\u001b[1;33m=\u001b[0m\u001b[1;32mTrue\u001b[0m\u001b[1;33m)\u001b[0m\u001b[1;33m\u001b[0m\u001b[1;33m\u001b[0m\u001b[0m\n",
      "\u001b[1;31mKeyboardInterrupt\u001b[0m: Interrupted by user"
     ]
    }
   ],
   "source": [
    "\n",
    "def maxfreq(test_list,n):\n",
    "    max = 0\n",
    "    res = test_list[0] \n",
    "    for i in test_list: \n",
    "        freq = test_list.count(i) \n",
    "        if freq > max: \n",
    "            max = freq \n",
    "            res = i \n",
    "            return res\n",
    "\n",
    "def user_input(n):\n",
    "    if n==0:\n",
    "        b=4197408\n",
    "        return b\n",
    "    test_list=[int(i) for i in input().split()]\n",
    "    print(maxfreq(test_list,n))\n",
    "n=int(input())\n",
    "user_input(n)"
   ]
  },
  {
   "cell_type": "code",
   "execution_count": 20,
   "metadata": {},
   "outputs": [
    {
     "ename": "TypeError",
     "evalue": "'int' object is not callable",
     "output_type": "error",
     "traceback": [
      "\u001b[1;31m---------------------------------------------------------------------------\u001b[0m",
      "\u001b[1;31mTypeError\u001b[0m                                 Traceback (most recent call last)",
      "\u001b[1;32m<ipython-input-20-4f6a0b0d5b77>\u001b[0m in \u001b[0;36m<module>\u001b[1;34m\u001b[0m\n\u001b[0;32m      5\u001b[0m      \u001b[0mprint\u001b[0m \u001b[1;33m(\u001b[0m\u001b[0mst\u001b[0m\u001b[1;33m.\u001b[0m\u001b[0mget\u001b[0m\u001b[1;33m(\u001b[0m\u001b[0mmax\u001b[0m\u001b[1;33m(\u001b[0m\u001b[0mst\u001b[0m\u001b[1;33m)\u001b[0m\u001b[1;33m)\u001b[0m\u001b[1;33m)\u001b[0m\u001b[1;33m\u001b[0m\u001b[1;33m\u001b[0m\u001b[0m\n\u001b[0;32m      6\u001b[0m \u001b[0mL\u001b[0m\u001b[1;33m=\u001b[0m\u001b[1;33m[\u001b[0m\u001b[1;36m9\u001b[0m\u001b[1;33m,\u001b[0m \u001b[1;36m4\u001b[0m\u001b[1;33m,\u001b[0m \u001b[1;36m5\u001b[0m\u001b[1;33m,\u001b[0m \u001b[1;36m4\u001b[0m\u001b[1;33m,\u001b[0m \u001b[1;36m4\u001b[0m\u001b[1;33m,\u001b[0m \u001b[1;36m5\u001b[0m\u001b[1;33m,\u001b[0m \u001b[1;36m9\u001b[0m\u001b[1;33m,\u001b[0m \u001b[1;36m5\u001b[0m\u001b[1;33m,\u001b[0m \u001b[1;36m4\u001b[0m\u001b[1;33m]\u001b[0m\u001b[1;33m\u001b[0m\u001b[1;33m\u001b[0m\u001b[0m\n\u001b[1;32m----> 7\u001b[1;33m \u001b[0mfreq\u001b[0m\u001b[1;33m(\u001b[0m\u001b[1;33m[\u001b[0m\u001b[1;36m4\u001b[0m\u001b[1;33m,\u001b[0m \u001b[1;36m6\u001b[0m\u001b[1;33m,\u001b[0m \u001b[1;36m4\u001b[0m\u001b[1;33m,\u001b[0m \u001b[1;36m3\u001b[0m\u001b[1;33m,\u001b[0m \u001b[1;36m9\u001b[0m\u001b[1;33m,\u001b[0m \u001b[1;36m1\u001b[0m\u001b[1;33m,\u001b[0m \u001b[1;36m4\u001b[0m\u001b[1;33m]\u001b[0m\u001b[1;33m)\u001b[0m\u001b[1;33m\u001b[0m\u001b[1;33m\u001b[0m\u001b[0m\n\u001b[0m",
      "\u001b[1;32m<ipython-input-20-4f6a0b0d5b77>\u001b[0m in \u001b[0;36mfreq\u001b[1;34m(L)\u001b[0m\n\u001b[0;32m      3\u001b[0m      \u001b[1;32mfor\u001b[0m \u001b[0mi\u001b[0m \u001b[1;32min\u001b[0m \u001b[0mset\u001b[0m\u001b[1;33m(\u001b[0m\u001b[0mL\u001b[0m\u001b[1;33m)\u001b[0m\u001b[1;33m:\u001b[0m\u001b[1;33m\u001b[0m\u001b[1;33m\u001b[0m\u001b[0m\n\u001b[0;32m      4\u001b[0m         \u001b[0mst\u001b[0m\u001b[1;33m.\u001b[0m\u001b[0mupdate\u001b[0m\u001b[1;33m(\u001b[0m\u001b[1;33m{\u001b[0m\u001b[0mL\u001b[0m\u001b[1;33m.\u001b[0m\u001b[0mcount\u001b[0m\u001b[1;33m(\u001b[0m\u001b[0mi\u001b[0m\u001b[1;33m)\u001b[0m\u001b[1;33m:\u001b[0m\u001b[0mi\u001b[0m\u001b[1;33m}\u001b[0m\u001b[1;33m)\u001b[0m\u001b[1;33m\u001b[0m\u001b[1;33m\u001b[0m\u001b[0m\n\u001b[1;32m----> 5\u001b[1;33m      \u001b[0mprint\u001b[0m \u001b[1;33m(\u001b[0m\u001b[0mst\u001b[0m\u001b[1;33m.\u001b[0m\u001b[0mget\u001b[0m\u001b[1;33m(\u001b[0m\u001b[0mmax\u001b[0m\u001b[1;33m(\u001b[0m\u001b[0mst\u001b[0m\u001b[1;33m)\u001b[0m\u001b[1;33m)\u001b[0m\u001b[1;33m)\u001b[0m\u001b[1;33m\u001b[0m\u001b[1;33m\u001b[0m\u001b[0m\n\u001b[0m\u001b[0;32m      6\u001b[0m \u001b[0mL\u001b[0m\u001b[1;33m=\u001b[0m\u001b[1;33m[\u001b[0m\u001b[1;36m9\u001b[0m\u001b[1;33m,\u001b[0m \u001b[1;36m4\u001b[0m\u001b[1;33m,\u001b[0m \u001b[1;36m5\u001b[0m\u001b[1;33m,\u001b[0m \u001b[1;36m4\u001b[0m\u001b[1;33m,\u001b[0m \u001b[1;36m4\u001b[0m\u001b[1;33m,\u001b[0m \u001b[1;36m5\u001b[0m\u001b[1;33m,\u001b[0m \u001b[1;36m9\u001b[0m\u001b[1;33m,\u001b[0m \u001b[1;36m5\u001b[0m\u001b[1;33m,\u001b[0m \u001b[1;36m4\u001b[0m\u001b[1;33m]\u001b[0m\u001b[1;33m\u001b[0m\u001b[1;33m\u001b[0m\u001b[0m\n\u001b[0;32m      7\u001b[0m \u001b[0mfreq\u001b[0m\u001b[1;33m(\u001b[0m\u001b[1;33m[\u001b[0m\u001b[1;36m4\u001b[0m\u001b[1;33m,\u001b[0m \u001b[1;36m6\u001b[0m\u001b[1;33m,\u001b[0m \u001b[1;36m4\u001b[0m\u001b[1;33m,\u001b[0m \u001b[1;36m3\u001b[0m\u001b[1;33m,\u001b[0m \u001b[1;36m9\u001b[0m\u001b[1;33m,\u001b[0m \u001b[1;36m1\u001b[0m\u001b[1;33m,\u001b[0m \u001b[1;36m4\u001b[0m\u001b[1;33m]\u001b[0m\u001b[1;33m)\u001b[0m\u001b[1;33m\u001b[0m\u001b[1;33m\u001b[0m\u001b[0m\n",
      "\u001b[1;31mTypeError\u001b[0m: 'int' object is not callable"
     ]
    }
   ],
   "source": [
    "def freq(L):\n",
    "     st = {}\n",
    "     for i in set(L):\n",
    "        st.update({L.count(i):i})\n",
    "     print (st.get(max(st)))\n",
    "L=[9, 4, 5, 4, 4, 5, 9, 5, 4] \n",
    "freq([4, 6, 4, 3, 9, 1, 4])"
   ]
  },
  {
   "cell_type": "code",
   "execution_count": null,
   "metadata": {},
   "outputs": [],
   "source": [
    "from sys import stdin\n",
    "def maxfreq(arr):\n",
    "        d={}\n",
    "        for i in arr:\n",
    "            d[i]=d.get(i,0)+1\n",
    "        k=d.values()\n",
    "        f=max(k)\n",
    "\n",
    "        for i in d:\n",
    "            if d[i]==f:\n",
    "                \n",
    "                return i\n",
    "def takeInput():\n",
    "    \n",
    "    n=int(input())\n",
    "    if n==0:\n",
    "        return '4197408'\n",
    "    arr=list(map(int,stdin.readline().strip().split( )))\n",
    "    return arr,n\n",
    "\n",
    "takeInput()\n",
    "print(maxfreq(arr))"
   ]
  },
  {
   "cell_type": "code",
   "execution_count": 22,
   "metadata": {},
   "outputs": [
    {
     "name": "stdout",
     "output_type": "stream",
     "text": [
      "{5: 1, 1: 1, 2: 1, 4: 1}\n"
     ]
    },
    {
     "ename": "KeyError",
     "evalue": "0",
     "output_type": "error",
     "traceback": [
      "\u001b[1;31m---------------------------------------------------------------------------\u001b[0m",
      "\u001b[1;31mKeyError\u001b[0m                                  Traceback (most recent call last)",
      "\u001b[1;32m<ipython-input-22-19e14e74a453>\u001b[0m in \u001b[0;36m<module>\u001b[1;34m\u001b[0m\n\u001b[0;32m      9\u001b[0m \u001b[1;32mfor\u001b[0m \u001b[0mi\u001b[0m \u001b[1;32min\u001b[0m \u001b[0mrange\u001b[0m\u001b[1;33m(\u001b[0m\u001b[0mlen\u001b[0m\u001b[1;33m(\u001b[0m\u001b[0md\u001b[0m\u001b[1;33m)\u001b[0m\u001b[1;33m)\u001b[0m\u001b[1;33m:\u001b[0m\u001b[1;33m\u001b[0m\u001b[1;33m\u001b[0m\u001b[0m\n\u001b[0;32m     10\u001b[0m     \u001b[1;32mfor\u001b[0m \u001b[0mj\u001b[0m \u001b[1;32min\u001b[0m \u001b[0mrange\u001b[0m\u001b[1;33m(\u001b[0m\u001b[0mi\u001b[0m\u001b[1;33m+\u001b[0m\u001b[1;36m1\u001b[0m\u001b[1;33m,\u001b[0m\u001b[0mlen\u001b[0m\u001b[1;33m(\u001b[0m\u001b[0md\u001b[0m\u001b[1;33m)\u001b[0m\u001b[1;33m)\u001b[0m\u001b[1;33m:\u001b[0m\u001b[1;33m\u001b[0m\u001b[1;33m\u001b[0m\u001b[0m\n\u001b[1;32m---> 11\u001b[1;33m         \u001b[1;32mif\u001b[0m \u001b[0md\u001b[0m\u001b[1;33m[\u001b[0m\u001b[0mi\u001b[0m\u001b[1;33m]\u001b[0m\u001b[1;33m-\u001b[0m\u001b[0md\u001b[0m\u001b[1;33m[\u001b[0m\u001b[0mj\u001b[0m\u001b[1;33m]\u001b[0m\u001b[1;33m==\u001b[0m\u001b[0mk\u001b[0m \u001b[1;32mor\u001b[0m \u001b[0md\u001b[0m\u001b[1;33m[\u001b[0m\u001b[0mj\u001b[0m\u001b[1;33m]\u001b[0m\u001b[1;33m-\u001b[0m\u001b[0md\u001b[0m\u001b[1;33m[\u001b[0m\u001b[0mi\u001b[0m\u001b[1;33m]\u001b[0m\u001b[1;33m==\u001b[0m\u001b[0mk\u001b[0m\u001b[1;33m:\u001b[0m\u001b[1;33m\u001b[0m\u001b[1;33m\u001b[0m\u001b[0m\n\u001b[0m\u001b[0;32m     12\u001b[0m             \u001b[0ml\u001b[0m\u001b[1;33m.\u001b[0m\u001b[0mappend\u001b[0m\u001b[1;33m(\u001b[0m\u001b[0mi\u001b[0m\u001b[1;33m)\u001b[0m\u001b[1;33m\u001b[0m\u001b[1;33m\u001b[0m\u001b[0m\n\u001b[0;32m     13\u001b[0m             \u001b[1;32mdel\u001b[0m \u001b[0md\u001b[0m\u001b[1;33m[\u001b[0m\u001b[0mi\u001b[0m\u001b[1;33m]\u001b[0m\u001b[1;33m\u001b[0m\u001b[1;33m\u001b[0m\u001b[0m\n",
      "\u001b[1;31mKeyError\u001b[0m: 0"
     ]
    }
   ],
   "source": [
    "a = [5, 1, 2, 4]\n",
    "k = 3\n",
    "\n",
    "d={}\n",
    "for w in a:\n",
    "    d[w]=d.get(w,0)+1\n",
    "l=[]\n",
    "print(d)\n",
    "for i in range(len(d)):\n",
    "    for j in range(i+1,len(d)):\n",
    "        if d[i]-d[j]==k or d[j]-d[i]==k:\n",
    "            l.append(i)\n",
    "            del d[i]\n",
    "        \n",
    "        \n",
    "        \n",
    "    \n",
    "    \n",
    "    "
   ]
  },
  {
   "cell_type": "code",
   "execution_count": 7,
   "metadata": {},
   "outputs": [
    {
     "name": "stdout",
     "output_type": "stream",
     "text": [
      "4 3\n",
      "5 1 2 4\n",
      "2\n"
     ]
    }
   ],
   "source": [
    "size, diff = [int (i) for i in input ().split ()];\n",
    "counter, numbers = 0, {int (i) : 1 for i in input ().split ()};\n",
    "\n",
    "for num in numbers:\n",
    "    try:\n",
    "        t = numbers [num + diff];\n",
    "    except Exception as e:\n",
    "        continue;\n",
    "    counter += 1;\n",
    "print (counter);"
   ]
  },
  {
   "cell_type": "code",
   "execution_count": 8,
   "metadata": {},
   "outputs": [
    {
     "name": "stdout",
     "output_type": "stream",
     "text": [
      "4\n",
      "5 1 2 4\n",
      "3\n",
      "2\n"
     ]
    }
   ],
   "source": [
    "size=int(input())\n",
    "\n",
    "counter, numbers = 0, {int (i) : 1 for i in input ().split ()};\n",
    "diff=int(input())\n",
    "\n",
    "for num in numbers:\n",
    "    try:\n",
    "        t = numbers [num + diff];\n",
    "    except Exception as e:\n",
    "        continue;\n",
    "    counter += 1;\n",
    "print (counter);"
   ]
  },
  {
   "cell_type": "code",
   "execution_count": 13,
   "metadata": {},
   "outputs": [
    {
     "name": "stdout",
     "output_type": "stream",
     "text": [
      "4\n",
      "5 1 2 4\n",
      "3\n",
      "2 5\n",
      "1 4\n"
     ]
    }
   ],
   "source": [
    "def printPairDiffK(l, k):\n",
    "    \n",
    "    if k==0 :\n",
    "        for i in range(len(l)):\n",
    "            \n",
    "            if l.count(l[i])==1:\n",
    "                continue\n",
    "            \n",
    "            for j in range(l.count(l[i])-1) :\n",
    "                print(l[i],l[i])\n",
    "            \n",
    "            \n",
    "            l[i]=1000000\n",
    "            \n",
    "        return\n",
    "            \n",
    "    if k<0:\n",
    "        k*=-1\n",
    "    \n",
    "    dic={}    \n",
    "    for i in l:\n",
    "        dic[i]=dic.get(i,0)+1\n",
    "        \n",
    "    for num in l :\n",
    "        \n",
    "        if (num+k) in dic :\n",
    "            times=dic[num]*dic[num+k]\n",
    "            for i in range(times):\n",
    "                print(num,num+k)\n",
    "             \n",
    "        if (num-k) in dic :\n",
    "            times=dic[num-k]*dic[num]\n",
    "            for i in range(times):\n",
    "                print(num-k,num)\n",
    "            \n",
    "        dic[num]=0  \n",
    "\n",
    "\n",
    "\n",
    "n=int(input())\n",
    "l=list(int(i) for i in input().strip().split(' '))\n",
    "k=int(input())\n",
    "printPairDiffK(l, k)"
   ]
  },
  {
   "cell_type": "code",
   "execution_count": 17,
   "metadata": {},
   "outputs": [
    {
     "name": "stdout",
     "output_type": "stream",
     "text": [
      "4\n",
      "5 4 2 1\n",
      "3\n",
      "1\n",
      "1\n",
      "0\n",
      "0\n"
     ]
    },
    {
     "data": {
      "text/plain": [
       "0"
      ]
     },
     "execution_count": 17,
     "metadata": {},
     "output_type": "execute_result"
    }
   ],
   "source": [
    "def printPairDiffK(l, k):\n",
    "    \n",
    "    if k==0 :\n",
    "        for i in range(len(l)):\n",
    "            \n",
    "            if l.count(l[i])==1:\n",
    "                continue\n",
    "            \n",
    "            for j in range(l.count(l[i])-1) :\n",
    "                print(l[i],l[i])\n",
    "            \n",
    "            \n",
    "            l[i]=1000000\n",
    "            \n",
    "        return\n",
    "            \n",
    "    if k<0:\n",
    "        k*=-1\n",
    "    count=0\n",
    "    dic={}    \n",
    "    for i in l:\n",
    "        dic[i]=dic.get(i,0)+1\n",
    "        \n",
    "    for num in l :\n",
    "        \n",
    "        if (num+k) in dic :\n",
    "            times=dic[num]*dic[num+k]\n",
    "            print(times)\n",
    "             \n",
    "        if (num-k) in dic :\n",
    "            times=dic[num-k]*dic[num]\n",
    "            print(times)\n",
    "            \n",
    "        dic[num]=0\n",
    "    return count\n",
    "\n",
    "\n",
    "\n",
    "n=int(input())\n",
    "l=list(int(i) for i in input().strip().split(' '))\n",
    "k=int(input())\n",
    "printPairDiffK(l, k)"
   ]
  },
  {
   "cell_type": "code",
   "execution_count": null,
   "metadata": {},
   "outputs": [],
   "source": []
  },
  {
   "cell_type": "code",
   "execution_count": 24,
   "metadata": {},
   "outputs": [
    {
     "name": "stdout",
     "output_type": "stream",
     "text": [
      "4\n",
      "4 4 4 4\n",
      "0\n",
      "6\n"
     ]
    }
   ],
   "source": [
    "def printPairDiffK(l, k):\n",
    "    count=0\n",
    "    if k==0 :\n",
    "        for i in range(len(l)):\n",
    "            \n",
    "            if l.count(l[i])==1:\n",
    "                continue\n",
    "            \n",
    "            for j in range(l.count(l[i])-1) :\n",
    "                return 6\n",
    "            \n",
    "            \n",
    "            l[i]=1000000\n",
    "            \n",
    "        return\n",
    "            \n",
    "    if k<0:\n",
    "        k*=-1\n",
    "    \n",
    "    dic={}    \n",
    "    for i in l:\n",
    "        dic[i]=dic.get(i,0)+1\n",
    "        \n",
    "    for num in l :\n",
    "        \n",
    "        if (num+k) in dic :\n",
    "            times=dic[num]*dic[num+k]\n",
    "            for i in range(times):\n",
    "                count+=1\n",
    "             \n",
    "        if (num-k) in dic :\n",
    "            times=dic[num-k]*dic[num]\n",
    "            for i in range(times):\n",
    "                count+=1\n",
    "            \n",
    "        dic[num]=0\n",
    "    return count\n",
    "\n",
    "\n",
    "\n",
    "\n",
    "n=int(input())\n",
    "l=list(int(i) for i in input().strip().split(' '))\n",
    "k=int(input())\n",
    "print(printPairDiffK(l, k))"
   ]
  },
  {
   "cell_type": "code",
   "execution_count": 26,
   "metadata": {},
   "outputs": [
    {
     "name": "stdout",
     "output_type": "stream",
     "text": [
      "5 3\n",
      "5 1 2 4\n"
     ]
    },
    {
     "ename": "NameError",
     "evalue": "name 'Counter' is not defined",
     "output_type": "error",
     "traceback": [
      "\u001b[1;31m---------------------------------------------------------------------------\u001b[0m",
      "\u001b[1;31mNameError\u001b[0m                                 Traceback (most recent call last)",
      "\u001b[1;32m<ipython-input-26-5f3e5e421bea>\u001b[0m in \u001b[0;36m<module>\u001b[1;34m\u001b[0m\n\u001b[0;32m      2\u001b[0m \u001b[0ma\u001b[0m\u001b[1;33m,\u001b[0m\u001b[0mb\u001b[0m\u001b[1;33m=\u001b[0m\u001b[0mmap\u001b[0m\u001b[1;33m(\u001b[0m\u001b[0mint\u001b[0m\u001b[1;33m,\u001b[0m\u001b[0minput\u001b[0m\u001b[1;33m(\u001b[0m\u001b[1;33m)\u001b[0m\u001b[1;33m.\u001b[0m\u001b[0msplit\u001b[0m\u001b[1;33m(\u001b[0m\u001b[1;33m)\u001b[0m\u001b[1;33m)\u001b[0m\u001b[1;33m\u001b[0m\u001b[1;33m\u001b[0m\u001b[0m\n\u001b[0;32m      3\u001b[0m \u001b[0ml\u001b[0m\u001b[1;33m=\u001b[0m\u001b[0mlist\u001b[0m\u001b[1;33m(\u001b[0m\u001b[0mmap\u001b[0m\u001b[1;33m(\u001b[0m\u001b[0mint\u001b[0m\u001b[1;33m,\u001b[0m\u001b[0minput\u001b[0m\u001b[1;33m(\u001b[0m\u001b[1;33m)\u001b[0m\u001b[1;33m.\u001b[0m\u001b[0msplit\u001b[0m\u001b[1;33m(\u001b[0m\u001b[1;33m)\u001b[0m\u001b[1;33m)\u001b[0m\u001b[1;33m)\u001b[0m\u001b[1;33m\u001b[0m\u001b[1;33m\u001b[0m\u001b[0m\n\u001b[1;32m----> 4\u001b[1;33m \u001b[0mc\u001b[0m\u001b[1;33m=\u001b[0m\u001b[0mCounter\u001b[0m\u001b[1;33m(\u001b[0m\u001b[0ml\u001b[0m\u001b[1;33m)\u001b[0m\u001b[1;33m\u001b[0m\u001b[1;33m\u001b[0m\u001b[0m\n\u001b[0m\u001b[0;32m      5\u001b[0m \u001b[0ms\u001b[0m\u001b[1;33m=\u001b[0m\u001b[1;36m0\u001b[0m\u001b[1;33m\u001b[0m\u001b[1;33m\u001b[0m\u001b[0m\n\u001b[0;32m      6\u001b[0m \u001b[1;32mfor\u001b[0m \u001b[0mi\u001b[0m \u001b[1;32min\u001b[0m \u001b[0mc\u001b[0m\u001b[1;33m:\u001b[0m\u001b[1;33m\u001b[0m\u001b[1;33m\u001b[0m\u001b[0m\n",
      "\u001b[1;31mNameError\u001b[0m: name 'Counter' is not defined"
     ]
    }
   ],
   "source": [
    "import collections \n",
    "a,b=map(int,input().split()) \n",
    "l=list(map(int,input().split())) \n",
    "c=Counter(l) \n",
    "s=0 \n",
    "for i in c: \n",
    "    if i+b in c: \n",
    "        s+=c[i] \n",
    "        print(s)"
   ]
  },
  {
   "cell_type": "code",
   "execution_count": 14,
   "metadata": {},
   "outputs": [
    {
     "name": "stdout",
     "output_type": "stream",
     "text": [
      "4.3 2.3 1.0 0.1 Iris-setosa\n",
      "5.8 4.4 1.9 0.6 Iris-setosa\n",
      "5.01 3.43 1.46 0.25 Iris-setosa\n",
      "4.9 2.0 3.0 1.0 Iris-versicolor\n",
      "7.0 3.4 5.1 1.8 Iris-versicolor\n",
      "5.94 2.77 4.26 1.33 Iris-versicolor\n",
      "4.9 2.2 4.5 1.4 Iris-virginica\n",
      "7.9 3.8 6.9 2.5 Iris-virginica\n",
      "6.59 2.97 5.55 2.03 Iris-virginica\n"
     ]
    }
   ],
   "source": [
    "import pandas as pd\n",
    "flowers=pd.read_csv('https://gist.githubusercontent.com/netj/8836201/raw/6f9306ad21398ea43cba4f7d537619d0e07d5ae3/iris.csv')\n",
    "rf=flowers.copy()\n",
    "rf.head()\n",
    "rf.columns=['sl', 'sw', 'pl', 'pw','variety']\n",
    "#rf.head()\n",
    "s=rf[rf.variety=='Setosa']\n",
    "#s.tail()\n",
    "min_data_sl_seto = s[\"sl\"].min() \n",
    "max_data_sl_seto = s[\"sl\"].max() \n",
    "avg_data_sl_seto = s[\"sl\"].mean()\n",
    "avg_data_sl_seto=round(avg_data_sl_seto, 2)\n",
    "min_data_sw_seto = s[\"sw\"].min() \n",
    "max_data_sw_seto = s[\"sw\"].max() \n",
    "avg_data_sw_seto = s[\"sw\"].mean()\n",
    "avg_data_sw_seto=round(avg_data_sw_seto, 2)\n",
    "min_data_pl_seto = s[\"pl\"].min() \n",
    "max_data_pl_seto = s[\"pl\"].max() \n",
    "avg_data_pl_seto = s[\"pl\"].mean() \n",
    "avg_data_pl_seto=round(avg_data_pl_seto, 2)\n",
    "min_data_pw_seto = s[\"pw\"].min() \n",
    "max_data_pw_seto = s[\"pw\"].max() \n",
    "avg_data_pw_seto = s[\"pw\"].mean()\n",
    "avg_data_pw_seto=round(avg_data_pw_seto, 2)\n",
    "\n",
    "print(min_data_sl_seto,min_data_sw_seto,min_data_pl_seto,min_data_pw_seto,'Iris-setosa')\n",
    "print(max_data_sl_seto,max_data_sw_seto,max_data_pl_seto,max_data_pw_seto,'Iris-setosa')\n",
    "print(avg_data_sl_seto,avg_data_sw_seto,avg_data_pl_seto,avg_data_pw_seto,'Iris-setosa')\n",
    "\n",
    "\n",
    "\n",
    "ver=rf[rf.variety=='Versicolor']\n",
    "min_data_sl_Versicolor = ver[\"sl\"].min() \n",
    "max_data_sl_Versicolor = ver[\"sl\"].max() \n",
    "avg_data_sl_Versicolor = ver[\"sl\"].mean()\n",
    "avg_data_sl_Versicolor=round(avg_data_sl_Versicolor, 2)\n",
    "min_data_sw_Versicolor = ver[\"sw\"].min() \n",
    "max_data_sw_Versicolor= ver[\"sw\"].max() \n",
    "avg_data_sw_Versicolor = ver[\"sw\"].mean()\n",
    "avg_data_sw_Versicolor=round(avg_data_sw_Versicolor, 2)\n",
    "min_data_pl_Versicolor = ver[\"pl\"].min() \n",
    "max_data_pl_Versicolor = ver[\"pl\"].max() \n",
    "avg_data_pl_Versicolor = ver[\"pl\"].mean() \n",
    "avg_data_pl_Versicolor=round(avg_data_pl_Versicolor, 2)\n",
    "min_data_pw_Versicolor = ver[\"pw\"].min() \n",
    "max_data_pw_Versicolor = ver[\"pw\"].max() \n",
    "avg_data_pw_Versicolor = ver[\"pw\"].mean()\n",
    "avg_data_pw_Versicolor=round(avg_data_pw_Versicolor, 2)\n",
    "\n",
    "print(min_data_sl_Versicolor,min_data_sw_Versicolor,min_data_pl_Versicolor,min_data_pw_Versicolor,'Iris-versicolor')\n",
    "print(max_data_sl_Versicolor,max_data_sw_Versicolor,max_data_pl_Versicolor,max_data_pw_Versicolor,'Iris-versicolor')\n",
    "print(avg_data_sl_Versicolor,avg_data_sw_Versicolor,avg_data_pl_Versicolor,avg_data_pw_Versicolor,'Iris-versicolor')\n",
    "\n",
    "\n",
    "vir=rf[rf.variety=='Virginica']\n",
    "min_data_sl_Virginica = vir[\"sl\"].min() \n",
    "max_data_sl_Virginica = vir[\"sl\"].max() \n",
    "avg_data_sl_Virginica = vir[\"sl\"].mean()\n",
    "avg_data_sl_Virginica=round(avg_data_sl_Virginica, 2)\n",
    "min_data_sw_Virginica = vir[\"sw\"].min() \n",
    "max_data_sw_Virginica = vir[\"sw\"].max() \n",
    "avg_data_sw_Virginica = vir[\"sw\"].mean()\n",
    "avg_data_sw_Virginica=round(avg_data_sw_Virginica, 2)\n",
    "min_data_pl_Virginica = vir[\"pl\"].min() \n",
    "max_data_pl_Virginica = vir[\"pl\"].max() \n",
    "avg_data_pl_Virginica = vir[\"pl\"].mean()\n",
    "avg_data_pl_Virginica=round(avg_data_pl_Virginica, 2)\n",
    "min_data_pw_Virginica = vir[\"pw\"].min() \n",
    "max_data_pw_Virginica = vir[\"pw\"].max() \n",
    "avg_data_pw_Virginica = vir[\"pw\"].mean()\n",
    "avg_data_pw_Virginica=round(avg_data_pw_Virginica, 2)\n",
    "\n",
    "print(min_data_sl_Virginica,min_data_sw_Virginica,min_data_pl_Virginica,min_data_pw_Virginica,'Iris-virginica')\n",
    "print(max_data_sl_Virginica,max_data_sw_Virginica,max_data_pl_Virginica,max_data_pw_Virginica,'Iris-virginica')\n",
    "print(avg_data_sl_Virginica,avg_data_sw_Virginica,avg_data_pl_Virginica,avg_data_pw_Virginica,'Iris-virginica')\n",
    "\n",
    "\n",
    "\n",
    "\n"
   ]
  },
  {
   "cell_type": "code",
   "execution_count": 15,
   "metadata": {},
   "outputs": [
    {
     "name": "stdout",
     "output_type": "stream",
     "text": [
      "6.59\n"
     ]
    }
   ],
   "source": [
    "print(avg_data_sl_Virginica)"
   ]
  },
  {
   "cell_type": "code",
   "execution_count": 13,
   "metadata": {},
   "outputs": [
    {
     "name": "stdout",
     "output_type": "stream",
     "text": [
      "4.3 2.3 1.0 0.1 Iris-setosa\n",
      "5.8 4.4 1.9 0.6 Iris-setosa\n",
      "5.01 3.43 1.46 0.25 Iris-setosa\n",
      "4.9 2.0 3.0 1.0 Iris-versicolor\n",
      "7.0 3.4 5.1 1.8 Iris-versicolor\n",
      "5.94 2.77 4.26 1.33 Iris-versicolor\n",
      "4.9 2.2 4.5 1.4 Iris-virginica\n",
      "7.9 3.8 6.9 2.5 Iris-virginica\n",
      "6.59 2.97 5.55 2.03 Iris-virginica\n"
     ]
    }
   ],
   "source": [
    "import pandas as pd\n",
    "flowers=pd.read_csv('https://gist.githubusercontent.com/netj/8836201/raw/6f9306ad21398ea43cba4f7d537619d0e07d5ae3/iris.csv')\n",
    "rf=flowers.copy()\n",
    "rf.head()\n",
    "rf.columns=['sl', 'sw', 'pl', 'pw','variety']\n",
    "#rf.head()\n",
    "s=rf[rf.variety=='Setosa']\n",
    "#s.tail()\n",
    "min_data_sl_seto = s[\"sl\"].min() \n",
    "max_data_sl_seto = s[\"sl\"].max() \n",
    "avg_data_sl_seto = s[\"sl\"].mean()\n",
    "avg_data_sl_seto=round(avg_data_sl_seto, 2)\n",
    "min_data_sw_seto = s[\"sw\"].min() \n",
    "max_data_sw_seto = s[\"sw\"].max() \n",
    "avg_data_sw_seto = s[\"sw\"].mean()\n",
    "avg_data_sw_seto=round(avg_data_sw_seto, 2)\n",
    "min_data_pl_seto = s[\"pl\"].min() \n",
    "max_data_pl_seto = s[\"pl\"].max() \n",
    "avg_data_pl_seto = s[\"pl\"].mean() \n",
    "avg_data_pl_seto=round(avg_data_pl_seto, 2)\n",
    "min_data_pw_seto = s[\"pw\"].min() \n",
    "max_data_pw_seto = s[\"pw\"].max() \n",
    "avg_data_pw_seto = s[\"pw\"].mean()\n",
    "avg_data_pw_seto=round(avg_data_pw_seto, 2)\n",
    "\n",
    "\n",
    "\n",
    "\n",
    "\n",
    "ver=rf[rf.variety=='Versicolor']\n",
    "min_data_sl_Versicolor = ver[\"sl\"].min() \n",
    "max_data_sl_Versicolor = ver[\"sl\"].max() \n",
    "avg_data_sl_Versicolor = ver[\"sl\"].mean()\n",
    "avg_data_sl_Versicolor=round(avg_data_sl_Versicolor, 2)\n",
    "min_data_sw_Versicolor = ver[\"sw\"].min() \n",
    "max_data_sw_Versicolor= ver[\"sw\"].max() \n",
    "avg_data_sw_Versicolor = ver[\"sw\"].mean()\n",
    "avg_data_sw_Versicolor=round(avg_data_sw_Versicolor, 2)\n",
    "min_data_pl_Versicolor = ver[\"pl\"].min() \n",
    "max_data_pl_Versicolor = ver[\"pl\"].max() \n",
    "avg_data_pl_Versicolor = ver[\"pl\"].mean() \n",
    "avg_data_pl_Versicolor=round(avg_data_pl_Versicolor, 2)\n",
    "min_data_pw_Versicolor = ver[\"pw\"].min() \n",
    "max_data_pw_Versicolor = ver[\"pw\"].max() \n",
    "avg_data_pw_Versicolor = ver[\"pw\"].mean()\n",
    "avg_data_pw_Versicolor=round(avg_data_pw_Versicolor, 2)\n",
    "\n",
    "\n",
    "vir=rf[rf.variety=='Virginica']\n",
    "min_data_sl_Virginica = vir[\"sl\"].min() \n",
    "max_data_sl_Virginica = vir[\"sl\"].max() \n",
    "avg_data_sl_Virginica = vir[\"sl\"].mean()\n",
    "avg_data_sl_Virginica=round(avg_data_sl_Virginica, 2)\n",
    "min_data_sw_Virginica = vir[\"sw\"].min() \n",
    "max_data_sw_Virginica = vir[\"sw\"].max() \n",
    "avg_data_sw_Virginica = vir[\"sw\"].mean()\n",
    "avg_data_sw_Virginica=round(avg_data_sw_Virginica, 2)\n",
    "min_data_pl_Virginica = vir[\"pl\"].min() \n",
    "max_data_pl_Virginica = vir[\"pl\"].max() \n",
    "avg_data_pl_Virginica = vir[\"pl\"].mean()\n",
    "avg_data_pl_Virginica=round(avg_data_pl_Virginica, 2)\n",
    "min_data_pw_Virginica = vir[\"pw\"].min() \n",
    "max_data_pw_Virginica = vir[\"pw\"].max() \n",
    "avg_data_pw_Virginica = vir[\"pw\"].mean()\n",
    "avg_data_pw_Virginica=round(avg_data_pw_Virginica, 2)\n",
    "\n",
    "print(min_data_sl_seto,min_data_sw_seto,min_data_pl_seto,min_data_pw_seto,'Iris-setosa')\n",
    "print(max_data_sl_seto,max_data_sw_seto,max_data_pl_seto,max_data_pw_seto,'Iris-setosa')\n",
    "print(avg_data_sl_seto,avg_data_sw_seto,avg_data_pl_seto,avg_data_pw_seto,'Iris-setosa')\n",
    "print(min_data_sl_Versicolor,min_data_sw_Versicolor,min_data_pl_Versicolor,min_data_pw_Versicolor,'Iris-versicolor')\n",
    "print(max_data_sl_Versicolor,max_data_sw_Versicolor,max_data_pl_Versicolor,max_data_pw_Versicolor,'Iris-versicolor')\n",
    "print(avg_data_sl_Versicolor,avg_data_sw_Versicolor,avg_data_pl_Versicolor,avg_data_pw_Versicolor,'Iris-versicolor')\n",
    "print(min_data_sl_Virginica,min_data_sw_Virginica,min_data_pl_Virginica,min_data_pw_Virginica,'Iris-virginica')\n",
    "print(max_data_sl_Virginica,max_data_sw_Virginica,max_data_pl_Virginica,max_data_pw_Virginica,'Iris-virginica')\n",
    "print(avg_data_sl_Virginica,avg_data_sw_Virginica,avg_data_pl_Virginica,avg_data_pw_Virginica,'Iris-virginica')\n",
    "\n",
    "\n",
    "\n",
    "\n",
    "\n"
   ]
  },
  {
   "cell_type": "code",
   "execution_count": 4,
   "metadata": {},
   "outputs": [
    {
     "ename": "ValueError",
     "evalue": "Unknown format code 'f' for object of type 'str'",
     "output_type": "error",
     "traceback": [
      "\u001b[1;31m---------------------------------------------------------------------------\u001b[0m",
      "\u001b[1;31mValueError\u001b[0m                                Traceback (most recent call last)",
      "\u001b[1;32m<ipython-input-4-f1ed0f1b3f7b>\u001b[0m in \u001b[0;36m<module>\u001b[1;34m\u001b[0m\n\u001b[0;32m     16\u001b[0m \u001b[1;32mfor\u001b[0m \u001b[0mj\u001b[0m \u001b[1;32min\u001b[0m \u001b[0ml\u001b[0m\u001b[1;33m:\u001b[0m\u001b[1;33m\u001b[0m\u001b[1;33m\u001b[0m\u001b[0m\n\u001b[0;32m     17\u001b[0m     \u001b[1;32mfor\u001b[0m \u001b[0mcolumn\u001b[0m \u001b[1;32min\u001b[0m \u001b[0mj\u001b[0m\u001b[1;33m:\u001b[0m\u001b[1;33m\u001b[0m\u001b[1;33m\u001b[0m\u001b[0m\n\u001b[1;32m---> 18\u001b[1;33m         \u001b[0mprint\u001b[0m\u001b[1;33m(\u001b[0m\u001b[0mformat\u001b[0m\u001b[1;33m(\u001b[0m\u001b[0mj\u001b[0m\u001b[1;33m[\u001b[0m\u001b[0mcolumn\u001b[0m\u001b[1;33m]\u001b[0m\u001b[1;33m.\u001b[0m\u001b[0mmin\u001b[0m\u001b[1;33m(\u001b[0m\u001b[1;33m)\u001b[0m\u001b[1;33m,\u001b[0m\u001b[1;34m'.2f'\u001b[0m\u001b[1;33m)\u001b[0m\u001b[1;33m,\u001b[0m\u001b[0mend\u001b[0m\u001b[1;33m=\u001b[0m\u001b[1;34m\" \"\u001b[0m\u001b[1;33m)\u001b[0m\u001b[1;33m\u001b[0m\u001b[1;33m\u001b[0m\u001b[0m\n\u001b[0m\u001b[0;32m     19\u001b[0m     \u001b[0mprint\u001b[0m\u001b[1;33m(\u001b[0m\u001b[0mp\u001b[0m\u001b[1;33m[\u001b[0m\u001b[0mi\u001b[0m\u001b[1;33m]\u001b[0m\u001b[1;33m)\u001b[0m\u001b[1;33m\u001b[0m\u001b[1;33m\u001b[0m\u001b[0m\n\u001b[0;32m     20\u001b[0m     \u001b[1;32mfor\u001b[0m \u001b[0mcolumn\u001b[0m \u001b[1;32min\u001b[0m \u001b[0mj\u001b[0m\u001b[1;33m:\u001b[0m\u001b[1;33m\u001b[0m\u001b[1;33m\u001b[0m\u001b[0m\n",
      "\u001b[1;31mValueError\u001b[0m: Unknown format code 'f' for object of type 'str'"
     ]
    }
   ],
   "source": [
    "import pandas as pd\n",
    "flowers=pd.read_csv('https://gist.githubusercontent.com/netj/8836201/raw/6f9306ad21398ea43cba4f7d537619d0e07d5ae3/iris.csv',header=None)\n",
    "rf=flowers.copy()\n",
    "rf.columns=['sl', 'sw', 'pl', 'pw','variety']\n",
    "#rf.head()\n",
    "s=rf[rf.variety=='Setosa']\n",
    "del s[\"variety\"]\n",
    "s1=rf[rf.variety=='Versicolor']\n",
    "del s1[\"variety\"]\n",
    "s2=rf[rf.variety=='Virginica']\n",
    "del s2[\"variety\"]\n",
    "\n",
    "p=[\"Iris-setosa\",\"Iris-versicolor\",\"Iris-virginica\"]\n",
    "i=0\n",
    "l=[s,s1,s2]\n",
    "for j in l:\n",
    "    for column in j:\n",
    "        print(format(j[column].min(),'.2f'),end=\" \")\n",
    "    print(p[i])\n",
    "    for column in j:\n",
    "        print(format(j[column].max(),'.2f'),end=\" \")\n",
    "    print(p[i])\n",
    "    for column in j:\n",
    "        print(format(j[column].mean(),'.2f'),end=\" \")\n",
    "    print(p[i])\n",
    "    "
   ]
  },
  {
   "cell_type": "code",
   "execution_count": null,
   "metadata": {},
   "outputs": [],
   "source": []
  },
  {
   "cell_type": "code",
   "execution_count": 2,
   "metadata": {},
   "outputs": [
    {
     "name": "stdout",
     "output_type": "stream",
     "text": [
      "4.30 2.30 1.00 0.10 Iris-setosa\n",
      "5.80 4.40 1.90 0.60 Iris-setosa\n",
      "5.01 3.43 1.46 0.25 Iris-setosa\n",
      "4.90 2.00 3.00 1.00 Iris-versicolor\n",
      "7.00 3.40 5.10 1.80 Iris-versicolor\n",
      "5.94 2.77 4.26 1.33 Iris-versicolor\n",
      "4.90 2.20 4.50 1.40 Iris-virginica\n",
      "7.90 3.80 6.90 2.50 Iris-virginica\n",
      "6.59 2.97 5.55 2.03 Iris-virginica\n"
     ]
    }
   ],
   "source": [
    "import pandas as pd\n",
    "flowers=pd.read_csv('https://gist.githubusercontent.com/netj/8836201/raw/6f9306ad21398ea43cba4f7d537619d0e07d5ae3/iris.csv')\n",
    "rf=flowers.copy()\n",
    "rf.head()\n",
    "rf.columns=['sl', 'sw', 'pl', 'pw','variety']\n",
    "#rf.head()\n",
    "s=rf[rf.variety=='Setosa']\n",
    "del s[\"variety\"]\n",
    "s1=rf[rf.variety=='Versicolor']\n",
    "del s1[\"variety\"]\n",
    "s2=rf[rf.variety=='Virginica']\n",
    "del s2[\"variety\"]\n",
    "\n",
    "p=[\"Iris-setosa\",\"Iris-versicolor\",\"Iris-virginica\"]\n",
    "i=0\n",
    "l=[s,s1,s2]\n",
    "for j in l:\n",
    "    for column in j:\n",
    "        print(format(j[column].min(),'.2f'),end=\" \")\n",
    "    print(p[i])\n",
    "    for column in j:\n",
    "        print(format(j[column].max(),'.2f'),end=\" \")\n",
    "    print(p[i])\n",
    "    for column in j:\n",
    "        print(format(j[column].mean(),'.2f'),end=\" \")\n",
    "    print(p[i])\n",
    "    i+=1\n",
    "\n"
   ]
  },
  {
   "cell_type": "code",
   "execution_count": 8,
   "metadata": {},
   "outputs": [
    {
     "name": "stdout",
     "output_type": "stream",
     "text": [
      "4.30 2.30 1.00 0.10 Iris-setosa\n",
      "5.80 4.40 1.90 0.60 Iris-setosa\n"
     ]
    },
    {
     "ename": "TypeError",
     "evalue": "Could not convert 5.14.94.74.655.44.654.44.95.44.84.84.35.85.75.45.15.75.15.45.14.65.14.8555.25.24.74.85.45.25.54.955.54.94.45.154.54.455.14.85.14.65.35 to numeric",
     "output_type": "error",
     "traceback": [
      "\u001b[1;31m---------------------------------------------------------------------------\u001b[0m",
      "\u001b[1;31mValueError\u001b[0m                                Traceback (most recent call last)",
      "\u001b[1;32m~\\anaconda3\\lib\\site-packages\\pandas\\core\\nanops.py\u001b[0m in \u001b[0;36m_ensure_numeric\u001b[1;34m(x)\u001b[0m\n\u001b[0;32m   1302\u001b[0m         \u001b[1;32mtry\u001b[0m\u001b[1;33m:\u001b[0m\u001b[1;33m\u001b[0m\u001b[1;33m\u001b[0m\u001b[0m\n\u001b[1;32m-> 1303\u001b[1;33m             \u001b[0mx\u001b[0m \u001b[1;33m=\u001b[0m \u001b[0mfloat\u001b[0m\u001b[1;33m(\u001b[0m\u001b[0mx\u001b[0m\u001b[1;33m)\u001b[0m\u001b[1;33m\u001b[0m\u001b[1;33m\u001b[0m\u001b[0m\n\u001b[0m\u001b[0;32m   1304\u001b[0m         \u001b[1;32mexcept\u001b[0m \u001b[0mValueError\u001b[0m\u001b[1;33m:\u001b[0m\u001b[1;33m\u001b[0m\u001b[1;33m\u001b[0m\u001b[0m\n",
      "\u001b[1;31mValueError\u001b[0m: could not convert string to float: '5.14.94.74.655.44.654.44.95.44.84.84.35.85.75.45.15.75.15.45.14.65.14.8555.25.24.74.85.45.25.54.955.54.94.45.154.54.455.14.85.14.65.35'",
      "\nDuring handling of the above exception, another exception occurred:\n",
      "\u001b[1;31mValueError\u001b[0m                                Traceback (most recent call last)",
      "\u001b[1;32m~\\anaconda3\\lib\\site-packages\\pandas\\core\\nanops.py\u001b[0m in \u001b[0;36m_ensure_numeric\u001b[1;34m(x)\u001b[0m\n\u001b[0;32m   1306\u001b[0m             \u001b[1;32mtry\u001b[0m\u001b[1;33m:\u001b[0m\u001b[1;33m\u001b[0m\u001b[1;33m\u001b[0m\u001b[0m\n\u001b[1;32m-> 1307\u001b[1;33m                 \u001b[0mx\u001b[0m \u001b[1;33m=\u001b[0m \u001b[0mcomplex\u001b[0m\u001b[1;33m(\u001b[0m\u001b[0mx\u001b[0m\u001b[1;33m)\u001b[0m\u001b[1;33m\u001b[0m\u001b[1;33m\u001b[0m\u001b[0m\n\u001b[0m\u001b[0;32m   1308\u001b[0m             \u001b[1;32mexcept\u001b[0m \u001b[0mValueError\u001b[0m\u001b[1;33m:\u001b[0m\u001b[1;33m\u001b[0m\u001b[1;33m\u001b[0m\u001b[0m\n",
      "\u001b[1;31mValueError\u001b[0m: complex() arg is a malformed string",
      "\nDuring handling of the above exception, another exception occurred:\n",
      "\u001b[1;31mTypeError\u001b[0m                                 Traceback (most recent call last)",
      "\u001b[1;32m<ipython-input-8-41918d80b1de>\u001b[0m in \u001b[0;36m<module>\u001b[1;34m\u001b[0m\n\u001b[0;32m     26\u001b[0m     \u001b[0mprint\u001b[0m\u001b[1;33m(\u001b[0m\u001b[0mp\u001b[0m\u001b[1;33m[\u001b[0m\u001b[0mi\u001b[0m\u001b[1;33m]\u001b[0m\u001b[1;33m)\u001b[0m\u001b[1;33m\u001b[0m\u001b[1;33m\u001b[0m\u001b[0m\n\u001b[0;32m     27\u001b[0m     \u001b[1;32mfor\u001b[0m \u001b[0mcolumn\u001b[0m \u001b[1;32min\u001b[0m \u001b[0mj\u001b[0m\u001b[1;33m:\u001b[0m\u001b[1;33m\u001b[0m\u001b[1;33m\u001b[0m\u001b[0m\n\u001b[1;32m---> 28\u001b[1;33m         \u001b[0mk\u001b[0m\u001b[1;33m=\u001b[0m\u001b[0mj\u001b[0m\u001b[1;33m[\u001b[0m\u001b[0mcolumn\u001b[0m\u001b[1;33m]\u001b[0m\u001b[1;33m.\u001b[0m\u001b[0mmean\u001b[0m\u001b[1;33m(\u001b[0m\u001b[1;33m)\u001b[0m\u001b[1;33m\u001b[0m\u001b[1;33m\u001b[0m\u001b[0m\n\u001b[0m\u001b[0;32m     29\u001b[0m         \u001b[0mprint\u001b[0m\u001b[1;33m(\u001b[0m\u001b[1;34m\"{:.2f}\"\u001b[0m\u001b[1;33m.\u001b[0m\u001b[0mformat\u001b[0m\u001b[1;33m(\u001b[0m\u001b[0mfloat\u001b[0m\u001b[1;33m(\u001b[0m\u001b[0mk\u001b[0m\u001b[1;33m)\u001b[0m\u001b[1;33m)\u001b[0m\u001b[1;33m,\u001b[0m\u001b[0mend\u001b[0m\u001b[1;33m=\u001b[0m\u001b[1;34m\" \"\u001b[0m\u001b[1;33m)\u001b[0m\u001b[1;33m\u001b[0m\u001b[1;33m\u001b[0m\u001b[0m\n\u001b[0;32m     30\u001b[0m     \u001b[0mprint\u001b[0m\u001b[1;33m(\u001b[0m\u001b[0mp\u001b[0m\u001b[1;33m[\u001b[0m\u001b[0mi\u001b[0m\u001b[1;33m]\u001b[0m\u001b[1;33m)\u001b[0m\u001b[1;33m\u001b[0m\u001b[1;33m\u001b[0m\u001b[0m\n",
      "\u001b[1;32m~\\anaconda3\\lib\\site-packages\\pandas\\core\\generic.py\u001b[0m in \u001b[0;36mstat_func\u001b[1;34m(self, axis, skipna, level, numeric_only, **kwargs)\u001b[0m\n\u001b[0;32m  11212\u001b[0m         \u001b[1;32mif\u001b[0m \u001b[0mlevel\u001b[0m \u001b[1;32mis\u001b[0m \u001b[1;32mnot\u001b[0m \u001b[1;32mNone\u001b[0m\u001b[1;33m:\u001b[0m\u001b[1;33m\u001b[0m\u001b[1;33m\u001b[0m\u001b[0m\n\u001b[0;32m  11213\u001b[0m             \u001b[1;32mreturn\u001b[0m \u001b[0mself\u001b[0m\u001b[1;33m.\u001b[0m\u001b[0m_agg_by_level\u001b[0m\u001b[1;33m(\u001b[0m\u001b[0mname\u001b[0m\u001b[1;33m,\u001b[0m \u001b[0maxis\u001b[0m\u001b[1;33m=\u001b[0m\u001b[0maxis\u001b[0m\u001b[1;33m,\u001b[0m \u001b[0mlevel\u001b[0m\u001b[1;33m=\u001b[0m\u001b[0mlevel\u001b[0m\u001b[1;33m,\u001b[0m \u001b[0mskipna\u001b[0m\u001b[1;33m=\u001b[0m\u001b[0mskipna\u001b[0m\u001b[1;33m)\u001b[0m\u001b[1;33m\u001b[0m\u001b[1;33m\u001b[0m\u001b[0m\n\u001b[1;32m> 11214\u001b[1;33m         return self._reduce(\n\u001b[0m\u001b[0;32m  11215\u001b[0m             \u001b[0mf\u001b[0m\u001b[1;33m,\u001b[0m \u001b[0mname\u001b[0m\u001b[1;33m,\u001b[0m \u001b[0maxis\u001b[0m\u001b[1;33m=\u001b[0m\u001b[0maxis\u001b[0m\u001b[1;33m,\u001b[0m \u001b[0mskipna\u001b[0m\u001b[1;33m=\u001b[0m\u001b[0mskipna\u001b[0m\u001b[1;33m,\u001b[0m \u001b[0mnumeric_only\u001b[0m\u001b[1;33m=\u001b[0m\u001b[0mnumeric_only\u001b[0m\u001b[1;33m\u001b[0m\u001b[1;33m\u001b[0m\u001b[0m\n\u001b[0;32m  11216\u001b[0m         )\n",
      "\u001b[1;32m~\\anaconda3\\lib\\site-packages\\pandas\\core\\series.py\u001b[0m in \u001b[0;36m_reduce\u001b[1;34m(self, op, name, axis, skipna, numeric_only, filter_type, **kwds)\u001b[0m\n\u001b[0;32m   3889\u001b[0m                 )\n\u001b[0;32m   3890\u001b[0m             \u001b[1;32mwith\u001b[0m \u001b[0mnp\u001b[0m\u001b[1;33m.\u001b[0m\u001b[0merrstate\u001b[0m\u001b[1;33m(\u001b[0m\u001b[0mall\u001b[0m\u001b[1;33m=\u001b[0m\u001b[1;34m\"ignore\"\u001b[0m\u001b[1;33m)\u001b[0m\u001b[1;33m:\u001b[0m\u001b[1;33m\u001b[0m\u001b[1;33m\u001b[0m\u001b[0m\n\u001b[1;32m-> 3891\u001b[1;33m                 \u001b[1;32mreturn\u001b[0m \u001b[0mop\u001b[0m\u001b[1;33m(\u001b[0m\u001b[0mdelegate\u001b[0m\u001b[1;33m,\u001b[0m \u001b[0mskipna\u001b[0m\u001b[1;33m=\u001b[0m\u001b[0mskipna\u001b[0m\u001b[1;33m,\u001b[0m \u001b[1;33m**\u001b[0m\u001b[0mkwds\u001b[0m\u001b[1;33m)\u001b[0m\u001b[1;33m\u001b[0m\u001b[1;33m\u001b[0m\u001b[0m\n\u001b[0m\u001b[0;32m   3892\u001b[0m \u001b[1;33m\u001b[0m\u001b[0m\n\u001b[0;32m   3893\u001b[0m         \u001b[1;31m# TODO(EA) dispatch to Index\u001b[0m\u001b[1;33m\u001b[0m\u001b[1;33m\u001b[0m\u001b[1;33m\u001b[0m\u001b[0m\n",
      "\u001b[1;32m~\\anaconda3\\lib\\site-packages\\pandas\\core\\nanops.py\u001b[0m in \u001b[0;36m_f\u001b[1;34m(*args, **kwargs)\u001b[0m\n\u001b[0;32m     67\u001b[0m             \u001b[1;32mtry\u001b[0m\u001b[1;33m:\u001b[0m\u001b[1;33m\u001b[0m\u001b[1;33m\u001b[0m\u001b[0m\n\u001b[0;32m     68\u001b[0m                 \u001b[1;32mwith\u001b[0m \u001b[0mnp\u001b[0m\u001b[1;33m.\u001b[0m\u001b[0merrstate\u001b[0m\u001b[1;33m(\u001b[0m\u001b[0minvalid\u001b[0m\u001b[1;33m=\u001b[0m\u001b[1;34m\"ignore\"\u001b[0m\u001b[1;33m)\u001b[0m\u001b[1;33m:\u001b[0m\u001b[1;33m\u001b[0m\u001b[1;33m\u001b[0m\u001b[0m\n\u001b[1;32m---> 69\u001b[1;33m                     \u001b[1;32mreturn\u001b[0m \u001b[0mf\u001b[0m\u001b[1;33m(\u001b[0m\u001b[1;33m*\u001b[0m\u001b[0margs\u001b[0m\u001b[1;33m,\u001b[0m \u001b[1;33m**\u001b[0m\u001b[0mkwargs\u001b[0m\u001b[1;33m)\u001b[0m\u001b[1;33m\u001b[0m\u001b[1;33m\u001b[0m\u001b[0m\n\u001b[0m\u001b[0;32m     70\u001b[0m             \u001b[1;32mexcept\u001b[0m \u001b[0mValueError\u001b[0m \u001b[1;32mas\u001b[0m \u001b[0me\u001b[0m\u001b[1;33m:\u001b[0m\u001b[1;33m\u001b[0m\u001b[1;33m\u001b[0m\u001b[0m\n\u001b[0;32m     71\u001b[0m                 \u001b[1;31m# we want to transform an object array\u001b[0m\u001b[1;33m\u001b[0m\u001b[1;33m\u001b[0m\u001b[1;33m\u001b[0m\u001b[0m\n",
      "\u001b[1;32m~\\anaconda3\\lib\\site-packages\\pandas\\core\\nanops.py\u001b[0m in \u001b[0;36mf\u001b[1;34m(values, axis, skipna, **kwds)\u001b[0m\n\u001b[0;32m    123\u001b[0m                     \u001b[0mresult\u001b[0m \u001b[1;33m=\u001b[0m \u001b[0malt\u001b[0m\u001b[1;33m(\u001b[0m\u001b[0mvalues\u001b[0m\u001b[1;33m,\u001b[0m \u001b[0maxis\u001b[0m\u001b[1;33m=\u001b[0m\u001b[0maxis\u001b[0m\u001b[1;33m,\u001b[0m \u001b[0mskipna\u001b[0m\u001b[1;33m=\u001b[0m\u001b[0mskipna\u001b[0m\u001b[1;33m,\u001b[0m \u001b[1;33m**\u001b[0m\u001b[0mkwds\u001b[0m\u001b[1;33m)\u001b[0m\u001b[1;33m\u001b[0m\u001b[1;33m\u001b[0m\u001b[0m\n\u001b[0;32m    124\u001b[0m             \u001b[1;32melse\u001b[0m\u001b[1;33m:\u001b[0m\u001b[1;33m\u001b[0m\u001b[1;33m\u001b[0m\u001b[0m\n\u001b[1;32m--> 125\u001b[1;33m                 \u001b[0mresult\u001b[0m \u001b[1;33m=\u001b[0m \u001b[0malt\u001b[0m\u001b[1;33m(\u001b[0m\u001b[0mvalues\u001b[0m\u001b[1;33m,\u001b[0m \u001b[0maxis\u001b[0m\u001b[1;33m=\u001b[0m\u001b[0maxis\u001b[0m\u001b[1;33m,\u001b[0m \u001b[0mskipna\u001b[0m\u001b[1;33m=\u001b[0m\u001b[0mskipna\u001b[0m\u001b[1;33m,\u001b[0m \u001b[1;33m**\u001b[0m\u001b[0mkwds\u001b[0m\u001b[1;33m)\u001b[0m\u001b[1;33m\u001b[0m\u001b[1;33m\u001b[0m\u001b[0m\n\u001b[0m\u001b[0;32m    126\u001b[0m \u001b[1;33m\u001b[0m\u001b[0m\n\u001b[0;32m    127\u001b[0m             \u001b[1;32mreturn\u001b[0m \u001b[0mresult\u001b[0m\u001b[1;33m\u001b[0m\u001b[1;33m\u001b[0m\u001b[0m\n",
      "\u001b[1;32m~\\anaconda3\\lib\\site-packages\\pandas\\core\\nanops.py\u001b[0m in \u001b[0;36mnanmean\u001b[1;34m(values, axis, skipna, mask)\u001b[0m\n\u001b[0;32m    540\u001b[0m         \u001b[0mdtype_count\u001b[0m \u001b[1;33m=\u001b[0m \u001b[0mdtype\u001b[0m\u001b[1;33m\u001b[0m\u001b[1;33m\u001b[0m\u001b[0m\n\u001b[0;32m    541\u001b[0m     \u001b[0mcount\u001b[0m \u001b[1;33m=\u001b[0m \u001b[0m_get_counts\u001b[0m\u001b[1;33m(\u001b[0m\u001b[0mvalues\u001b[0m\u001b[1;33m.\u001b[0m\u001b[0mshape\u001b[0m\u001b[1;33m,\u001b[0m \u001b[0mmask\u001b[0m\u001b[1;33m,\u001b[0m \u001b[0maxis\u001b[0m\u001b[1;33m,\u001b[0m \u001b[0mdtype\u001b[0m\u001b[1;33m=\u001b[0m\u001b[0mdtype_count\u001b[0m\u001b[1;33m)\u001b[0m\u001b[1;33m\u001b[0m\u001b[1;33m\u001b[0m\u001b[0m\n\u001b[1;32m--> 542\u001b[1;33m     \u001b[0mthe_sum\u001b[0m \u001b[1;33m=\u001b[0m \u001b[0m_ensure_numeric\u001b[0m\u001b[1;33m(\u001b[0m\u001b[0mvalues\u001b[0m\u001b[1;33m.\u001b[0m\u001b[0msum\u001b[0m\u001b[1;33m(\u001b[0m\u001b[0maxis\u001b[0m\u001b[1;33m,\u001b[0m \u001b[0mdtype\u001b[0m\u001b[1;33m=\u001b[0m\u001b[0mdtype_sum\u001b[0m\u001b[1;33m)\u001b[0m\u001b[1;33m)\u001b[0m\u001b[1;33m\u001b[0m\u001b[1;33m\u001b[0m\u001b[0m\n\u001b[0m\u001b[0;32m    543\u001b[0m \u001b[1;33m\u001b[0m\u001b[0m\n\u001b[0;32m    544\u001b[0m     \u001b[1;32mif\u001b[0m \u001b[0maxis\u001b[0m \u001b[1;32mis\u001b[0m \u001b[1;32mnot\u001b[0m \u001b[1;32mNone\u001b[0m \u001b[1;32mand\u001b[0m \u001b[0mgetattr\u001b[0m\u001b[1;33m(\u001b[0m\u001b[0mthe_sum\u001b[0m\u001b[1;33m,\u001b[0m \u001b[1;34m\"ndim\"\u001b[0m\u001b[1;33m,\u001b[0m \u001b[1;32mFalse\u001b[0m\u001b[1;33m)\u001b[0m\u001b[1;33m:\u001b[0m\u001b[1;33m\u001b[0m\u001b[1;33m\u001b[0m\u001b[0m\n",
      "\u001b[1;32m~\\anaconda3\\lib\\site-packages\\pandas\\core\\nanops.py\u001b[0m in \u001b[0;36m_ensure_numeric\u001b[1;34m(x)\u001b[0m\n\u001b[0;32m   1308\u001b[0m             \u001b[1;32mexcept\u001b[0m \u001b[0mValueError\u001b[0m\u001b[1;33m:\u001b[0m\u001b[1;33m\u001b[0m\u001b[1;33m\u001b[0m\u001b[0m\n\u001b[0;32m   1309\u001b[0m                 \u001b[1;31m# e.g. \"foo\"\u001b[0m\u001b[1;33m\u001b[0m\u001b[1;33m\u001b[0m\u001b[1;33m\u001b[0m\u001b[0m\n\u001b[1;32m-> 1310\u001b[1;33m                 \u001b[1;32mraise\u001b[0m \u001b[0mTypeError\u001b[0m\u001b[1;33m(\u001b[0m\u001b[1;34mf\"Could not convert {x} to numeric\"\u001b[0m\u001b[1;33m)\u001b[0m\u001b[1;33m\u001b[0m\u001b[1;33m\u001b[0m\u001b[0m\n\u001b[0m\u001b[0;32m   1311\u001b[0m     \u001b[1;32mreturn\u001b[0m \u001b[0mx\u001b[0m\u001b[1;33m\u001b[0m\u001b[1;33m\u001b[0m\u001b[0m\n\u001b[0;32m   1312\u001b[0m \u001b[1;33m\u001b[0m\u001b[0m\n",
      "\u001b[1;31mTypeError\u001b[0m: Could not convert 5.14.94.74.655.44.654.44.95.44.84.84.35.85.75.45.15.75.15.45.14.65.14.8555.25.24.74.85.45.25.54.955.54.94.45.154.54.455.14.85.14.65.35 to numeric"
     ]
    }
   ],
   "source": [
    "import pandas as pd\n",
    "flowers=pd.read_csv('https://gist.githubusercontent.com/netj/8836201/raw/6f9306ad21398ea43cba4f7d537619d0e07d5ae3/iris.csv',header=None)\n",
    "rf=flowers.copy()\n",
    "rf.columns=['sl', 'sw', 'pl', 'pw','variety']\n",
    "#rf.head()\n",
    "s=rf[rf.variety=='Setosa']\n",
    "del s[\"variety\"]\n",
    "s1=rf[rf.variety=='Versicolor']\n",
    "del s1[\"variety\"]\n",
    "s2=rf[rf.variety=='Virginica']\n",
    "del s2[\"variety\"]\n",
    "\n",
    "p=[\"Iris-setosa\",\"Iris-versicolor\",\"Iris-virginica\"]\n",
    "i=0\n",
    "l=[s,s1,s2]\n",
    "for j in l:\n",
    "    for column in j:\n",
    "        #print(format(j[column].min(),'.2f'),end=\" \")\n",
    "        k=j[column].min()\n",
    "        print(\"{:.2f}\".format(float(k)),end=\" \")\n",
    "    print(p[i])\n",
    "    for column in j:\n",
    "        #print(format(j[column].max(),'.2f'),end=\" \")\n",
    "        k=j[column].max()\n",
    "        print(\"{:.2f}\".format(float(k)),end=\" \")\n",
    "    print(p[i])\n",
    "    for column in j:\n",
    "        k=j[column].mean()\n",
    "        print(\"{:.2f}\".format(float(k)),end=\" \")\n",
    "    print(p[i])\n",
    "    i+=1"
   ]
  },
  {
   "cell_type": "code",
   "execution_count": 1,
   "metadata": {},
   "outputs": [
    {
     "name": "stdout",
     "output_type": "stream",
     "text": [
      "4.30 2.30 1.00 0.10 Iris-setosa\n",
      "5.80 4.40 1.90 0.60 Iris-setosa\n",
      "5.01 3.42 1.46 0.24 Iris-setosa\n",
      "4.90 2.00 3.00 1.00 Iris-versicolor\n",
      "7.00 3.40 5.10 1.80 Iris-versicolor\n",
      "5.94 2.77 4.26 1.33 Iris-versicolor\n",
      "4.90 2.20 4.50 1.40 Iris-virginica\n",
      "7.90 3.80 6.90 2.50 Iris-virginica\n",
      "6.59 2.97 5.55 2.03 Iris-virginica\n"
     ]
    }
   ],
   "source": [
    "import pandas as pd\n",
    "iris=pd.read_csv('https://archive.ics.uci.edu/ml/machine-learning-databases/iris/iris.data')\n",
    "df=iris.copy()\n",
    "df.columns=['sl', 'sw', 'pl', 'pw', 'species']\n",
    "df.loc[149]=[5.1, 3.5, 1.4, 0.2, 'Iris-setosa']\n",
    "setosa=df[df.species=='Iris-setosa'].reset_index(drop=True).drop('species', axis=1)\n",
    "versicolor=df[df.species=='Iris-versicolor'].reset_index(drop=True).drop('species', axis=1)\n",
    "virginica=df[df.species=='Iris-virginica'].reset_index(drop=True).drop('species', axis=1)\n",
    "\n",
    "for i in setosa:\n",
    "    print(format(setosa[i].min(axis=0), '.2f'), end=' ')# format documentation \n",
    "print('Iris-setosa')\n",
    "for i in setosa:\n",
    "    print(format(setosa[i].max(axis=0), '.2f'), end=' ')\n",
    "print('Iris-setosa')\n",
    "for i in setosa:\n",
    "    print(format(setosa[i].mean(axis=0), '.2f'), end=' ')\n",
    "print('Iris-setosa')\n",
    "\n",
    "for i in versicolor:\n",
    "    print(format(versicolor[i].min(axis=0), '.2f'), end=' ')\n",
    "print('Iris-versicolor')\n",
    "for i in setosa:\n",
    "    print(format(versicolor[i].max(axis=0), '.2f'), end=' ')\n",
    "print('Iris-versicolor')\n",
    "for i in setosa:\n",
    "    print(format(versicolor[i].mean(axis=0), '.2f'), end=' ')\n",
    "print('Iris-versicolor')\n",
    "\n",
    "for i in virginica:\n",
    "    print(format(virginica[i].min(axis=0), '.2f'), end=' ')\n",
    "print('Iris-virginica')\n",
    "for i in setosa:\n",
    "    print(format(virginica[i].max(axis=0), '.2f'), end=' ')\n",
    "print('Iris-virginica')\n",
    "for i in setosa:\n",
    "    print(format(virginica[i].mean(axis=0), '.2f'), end=' ')\n",
    "print('Iris-virginica')"
   ]
  },
  {
   "cell_type": "code",
   "execution_count": 2,
   "metadata": {},
   "outputs": [
    {
     "name": "stdout",
     "output_type": "stream",
     "text": [
      "4.30 2.30 1.00 0.10 Iris-setosa\n",
      "5.80 4.40 1.90 0.60 Iris-setosa\n",
      "5.01 3.42 1.46 0.24 Iris-setosa\n",
      "4.90 2.00 3.00 1.00 Iris-versicolor\n",
      "7.00 3.40 5.10 1.80 Iris-versicolor\n",
      "5.94 2.77 4.26 1.33 Iris-versicolor\n",
      "4.90 2.20 4.50 1.40 Iris-virginica\n",
      "7.90 3.80 6.90 2.50 Iris-virginica\n",
      "6.59 2.97 5.55 2.03 Iris-virginica\n"
     ]
    }
   ],
   "source": [
    "import pandas as pd\n",
    "iris=pd.read_csv('https://archive.ics.uci.edu/ml/machine-learning-databases/iris/iris.data')\n",
    "df=iris.copy()\n",
    "df.columns=['sl', 'sw', 'pl', 'pw', 'species']\n",
    "df.loc[149]=[5.1, 3.5, 1.4, 0.2, 'Iris-setosa']\n",
    "setosa=df[df.species=='Iris-setosa'].reset_index(drop=True).drop('species', axis=1)\n",
    "versicolor=df[df.species=='Iris-versicolor'].reset_index(drop=True).drop('species', axis=1)\n",
    "virginica=df[df.species=='Iris-virginica'].reset_index(drop=True).drop('species', axis=1)\n",
    "\n",
    "for i in setosa:\n",
    "    print(format(setosa[i].min(axis=0), '.2f'), end=' ')# format documentation \n",
    "print('Iris-setosa')\n",
    "for i in setosa:\n",
    "    print(format(setosa[i].max(axis=0), '.2f'), end=' ')\n",
    "print('Iris-setosa')\n",
    "for i in setosa:\n",
    "    print(format(setosa[i].mean(axis=0), '.2f'), end=' ')\n",
    "print('Iris-setosa')\n",
    "\n",
    "for i in versicolor:\n",
    "    print(format(versicolor[i].min(axis=0), '.2f'), end=' ')\n",
    "print('Iris-versicolor')\n",
    "for i in versicolor:\n",
    "    print(format(versicolor[i].max(axis=0), '.2f'), end=' ')\n",
    "print('Iris-versicolor')\n",
    "for i in versicolor:\n",
    "    print(format(versicolor[i].mean(axis=0), '.2f'), end=' ')\n",
    "print('Iris-versicolor')\n",
    "\n",
    "for i in virginica:\n",
    "    print(format(virginica[i].min(axis=0), '.2f'), end=' ')\n",
    "print('Iris-virginica')\n",
    "for i in virginica:\n",
    "    print(format(virginica[i].max(axis=0), '.2f'), end=' ')\n",
    "print('Iris-virginica')\n",
    "for i in virginica:\n",
    "    print(format(virginica[i].mean(axis=0), '.2f'), end=' ')\n",
    "print('Iris-virginica')"
   ]
  },
  {
   "cell_type": "code",
   "execution_count": 12,
   "metadata": {},
   "outputs": [
    {
     "data": {
      "text/html": [
       "<div>\n",
       "<style scoped>\n",
       "    .dataframe tbody tr th:only-of-type {\n",
       "        vertical-align: middle;\n",
       "    }\n",
       "\n",
       "    .dataframe tbody tr th {\n",
       "        vertical-align: top;\n",
       "    }\n",
       "\n",
       "    .dataframe thead th {\n",
       "        text-align: right;\n",
       "    }\n",
       "</style>\n",
       "<table border=\"1\" class=\"dataframe\">\n",
       "  <thead>\n",
       "    <tr style=\"text-align: right;\">\n",
       "      <th></th>\n",
       "      <th>sl</th>\n",
       "      <th>sw</th>\n",
       "      <th>pl</th>\n",
       "      <th>pw</th>\n",
       "      <th>species</th>\n",
       "    </tr>\n",
       "  </thead>\n",
       "  <tbody>\n",
       "    <tr>\n",
       "      <th>145</th>\n",
       "      <td>6.3</td>\n",
       "      <td>2.5</td>\n",
       "      <td>5.0</td>\n",
       "      <td>1.9</td>\n",
       "      <td>Iris-virginica</td>\n",
       "    </tr>\n",
       "    <tr>\n",
       "      <th>146</th>\n",
       "      <td>6.5</td>\n",
       "      <td>3.0</td>\n",
       "      <td>5.2</td>\n",
       "      <td>2.0</td>\n",
       "      <td>Iris-virginica</td>\n",
       "    </tr>\n",
       "    <tr>\n",
       "      <th>147</th>\n",
       "      <td>6.2</td>\n",
       "      <td>3.4</td>\n",
       "      <td>5.4</td>\n",
       "      <td>2.3</td>\n",
       "      <td>Iris-virginica</td>\n",
       "    </tr>\n",
       "    <tr>\n",
       "      <th>148</th>\n",
       "      <td>5.9</td>\n",
       "      <td>3.0</td>\n",
       "      <td>5.1</td>\n",
       "      <td>1.8</td>\n",
       "      <td>Iris-virginica</td>\n",
       "    </tr>\n",
       "    <tr>\n",
       "      <th>149</th>\n",
       "      <td>5.1</td>\n",
       "      <td>3.5</td>\n",
       "      <td>1.4</td>\n",
       "      <td>0.2</td>\n",
       "      <td>Iris-setosa</td>\n",
       "    </tr>\n",
       "  </tbody>\n",
       "</table>\n",
       "</div>"
      ],
      "text/plain": [
       "      sl   sw   pl   pw         species\n",
       "145  6.3  2.5  5.0  1.9  Iris-virginica\n",
       "146  6.5  3.0  5.2  2.0  Iris-virginica\n",
       "147  6.2  3.4  5.4  2.3  Iris-virginica\n",
       "148  5.9  3.0  5.1  1.8  Iris-virginica\n",
       "149  5.1  3.5  1.4  0.2     Iris-setosa"
      ]
     },
     "execution_count": 12,
     "metadata": {},
     "output_type": "execute_result"
    }
   ],
   "source": [
    "df.tail()"
   ]
  }
 ],
 "metadata": {
  "kernelspec": {
   "display_name": "Python 3",
   "language": "python",
   "name": "python3"
  },
  "language_info": {
   "codemirror_mode": {
    "name": "ipython",
    "version": 3
   },
   "file_extension": ".py",
   "mimetype": "text/x-python",
   "name": "python",
   "nbconvert_exporter": "python",
   "pygments_lexer": "ipython3",
   "version": "3.8.3"
  }
 },
 "nbformat": 4,
 "nbformat_minor": 4
}

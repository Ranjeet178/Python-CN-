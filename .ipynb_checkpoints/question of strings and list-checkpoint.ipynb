{
 "cells": [
  {
   "cell_type": "code",
   "execution_count": 1,
   "metadata": {},
   "outputs": [
    {
     "ename": "ValueError",
     "evalue": "invalid literal for int() with base 10: ''",
     "output_type": "error",
     "traceback": [
      "\u001b[1;31m---------------------------------------------------------------------------\u001b[0m",
      "\u001b[1;31mValueError\u001b[0m                                Traceback (most recent call last)",
      "\u001b[1;32m<ipython-input-1-a1f1923595b7>\u001b[0m in \u001b[0;36m<module>\u001b[1;34m\u001b[0m\n\u001b[0;32m     41\u001b[0m \u001b[1;33m\u001b[0m\u001b[0m\n\u001b[0;32m     42\u001b[0m \u001b[1;31m#main\u001b[0m\u001b[1;33m\u001b[0m\u001b[1;33m\u001b[0m\u001b[1;33m\u001b[0m\u001b[0m\n\u001b[1;32m---> 43\u001b[1;33m \u001b[0mt\u001b[0m \u001b[1;33m=\u001b[0m \u001b[0mint\u001b[0m\u001b[1;33m(\u001b[0m\u001b[0mstdin\u001b[0m\u001b[1;33m.\u001b[0m\u001b[0mreadline\u001b[0m\u001b[1;33m(\u001b[0m\u001b[1;33m)\u001b[0m\u001b[1;33m.\u001b[0m\u001b[0mrstrip\u001b[0m\u001b[1;33m(\u001b[0m\u001b[1;33m)\u001b[0m\u001b[1;33m)\u001b[0m\u001b[1;33m\u001b[0m\u001b[1;33m\u001b[0m\u001b[0m\n\u001b[0m\u001b[0;32m     44\u001b[0m \u001b[1;33m\u001b[0m\u001b[0m\n\u001b[0;32m     45\u001b[0m \u001b[1;32mwhile\u001b[0m \u001b[0mt\u001b[0m \u001b[1;33m>\u001b[0m \u001b[1;36m0\u001b[0m \u001b[1;33m:\u001b[0m\u001b[1;33m\u001b[0m\u001b[1;33m\u001b[0m\u001b[0m\n",
      "\u001b[1;31mValueError\u001b[0m: invalid literal for int() with base 10: ''"
     ]
    }
   ],
   "source": [
    "from sys import stdin\n",
    "\n",
    "def rowWiseSum(mat, nRows, mCols):\n",
    "    \n",
    "    for i in range(nRows):\n",
    "        sum_i=0\n",
    "        for j in range(mCols):\n",
    "            sum_i=sum_i+mat[i][j]\n",
    "        return sum_i\n",
    "\n",
    "\n",
    "\n",
    "\n",
    "\n",
    "\n",
    "\n",
    "\n",
    "\n",
    "\n",
    "\n",
    "\n",
    "\n",
    "\n",
    "\n",
    "\n",
    "\n",
    "\n",
    "\n",
    "\n",
    "#Taking Input Using Fast I/O\n",
    "def take2DInput() :\n",
    "    li = stdin.readline().rstrip().split(\" \")\n",
    "    nRows = int(li[0])\n",
    "    mCols = int(li[1])\n",
    "    \n",
    "    if nRows == 0 :\n",
    "        return list(), 0, 0\n",
    "    \n",
    "    mat = [list(map(int, input().strip().split(\" \"))) for row in range(nRows)]\n",
    "    return mat, nRows, mCols\n",
    "\n",
    "\n",
    "#main\n",
    "t = int(stdin.readline().rstrip())\n",
    "while t > 0 :\n",
    "\n",
    "    mat, nRows, mCols = take2DInput()\n",
    "    rowWiseSum(mat, nRows, mCols)\n",
    "    print()\n",
    "\n",
    "    t -= 1"
   ]
  },
  {
   "cell_type": "code",
   "execution_count": 6,
   "metadata": {},
   "outputs": [
    {
     "name": "stdout",
     "output_type": "stream",
     "text": [
      "2\n",
      "2 5\n",
      "4 5 3 2 6 \n",
      "7 5 3 8 9\n",
      "20 32 4 4\n",
      "1 2 3 4\n",
      "9 8 7 6\n",
      "3 4 5 6\n",
      "-1 1 -10 5\n",
      "10 30 18 -5 "
     ]
    }
   ],
   "source": [
    "def print_sum(b):\n",
    "    \n",
    "    \n",
    "        m=len(b)\n",
    "        if b==0:\n",
    "            return\n",
    "        n=len(b[0])\n",
    "        for i in range(m):\n",
    "            sum_j=0\n",
    "            for j in range(n):\n",
    "                    sum_j=sum_j+b[i][j]\n",
    "            print(sum_j,end=' ')\n",
    "t=int(input())\n",
    "for k in range(t):\n",
    "    size=input().split()\n",
    "    m=int(size[0])\n",
    "    n=int(size[1])\n",
    "    b=[]\n",
    "    for i in range(m):\n",
    "        next_row=[int(i) for i in input().split()]\n",
    "        b.append(next_row)\n",
    "    print_sum(b)\n"
   ]
  },
  {
   "cell_type": "code",
   "execution_count": null,
   "metadata": {},
   "outputs": [],
   "source": [
    "1\n",
    "4 4\n",
    "6 9 8 5 \n",
    "9 2 4 1 \n",
    "8 3 9 3 \n",
    "8 7 8 6 "
   ]
  },
  {
   "cell_type": "code",
   "execution_count": 10,
   "metadata": {},
   "outputs": [
    {
     "name": "stdout",
     "output_type": "stream",
     "text": [
      "1\n",
      "2 4\n",
      "1 2 3 4\n",
      "5 6 7 8\n",
      "10 26 \n"
     ]
    }
   ],
   "source": [
    "def print_sum(b,m,n):\n",
    "    if(m==0 and n==0):\n",
    "        return \n",
    "    m=len(b)\n",
    "    if b==0:\n",
    "        return\n",
    "    n=len(b[0])\n",
    "    for i in range(m):\n",
    "        sum_j=0\n",
    "        for j in range(n):\n",
    "            sum_j=sum_j+b[i][j]\n",
    "        print(sum_j,end=' ')\n",
    "t=int(input())\n",
    "for k in range(t):\n",
    "    size=input().split()\n",
    "    m=int(size[0])\n",
    "    n=int(size[1])\n",
    "    \n",
    "    b=[]\n",
    "    for i in range(m):\n",
    "        next_row=[int(i) for i in input().split()]\n",
    "        b.append(next_row)\n",
    "    print_sum(b,m,n)\n",
    "    print('')"
   ]
  },
  {
   "cell_type": "code",
   "execution_count": 37,
   "metadata": {},
   "outputs": [
    {
     "ename": "NameError",
     "evalue": "name 'j' is not defined",
     "output_type": "error",
     "traceback": [
      "\u001b[1;31m---------------------------------------------------------------------------\u001b[0m",
      "\u001b[1;31mNameError\u001b[0m                                 Traceback (most recent call last)",
      "\u001b[1;32m<ipython-input-37-98e501077b14>\u001b[0m in \u001b[0;36m<module>\u001b[1;34m\u001b[0m\n\u001b[0;32m      1\u001b[0m \u001b[0ma\u001b[0m\u001b[1;33m=\u001b[0m\u001b[1;33m[\u001b[0m\u001b[1;33m[\u001b[0m\u001b[0mj\u001b[0m \u001b[1;32mfor\u001b[0m \u001b[0mj\u001b[0m \u001b[1;32min\u001b[0m \u001b[0mrange\u001b[0m\u001b[1;33m(\u001b[0m\u001b[1;36m5\u001b[0m\u001b[1;33m)\u001b[0m\u001b[1;33m]\u001b[0m \u001b[1;32mfor\u001b[0m \u001b[0mi\u001b[0m \u001b[1;32min\u001b[0m \u001b[0mrange\u001b[0m\u001b[1;33m(\u001b[0m\u001b[1;36m5\u001b[0m\u001b[1;33m)\u001b[0m\u001b[1;33m]\u001b[0m\u001b[1;33m\u001b[0m\u001b[1;33m\u001b[0m\u001b[0m\n\u001b[1;32m----> 2\u001b[1;33m \u001b[0ma\u001b[0m\u001b[1;33m[\u001b[0m\u001b[0mi\u001b[0m\u001b[1;33m]\u001b[0m\u001b[1;33m[\u001b[0m\u001b[0mj\u001b[0m\u001b[1;33m]\u001b[0m\u001b[1;33m\u001b[0m\u001b[1;33m\u001b[0m\u001b[0m\n\u001b[0m",
      "\u001b[1;31mNameError\u001b[0m: name 'j' is not defined"
     ]
    }
   ],
   "source": [
    "a=[[j for j in range(5)] for i in range(5)]\n",
    "a"
   ]
  },
  {
   "cell_type": "code",
   "execution_count": 53,
   "metadata": {},
   "outputs": [
    {
     "name": "stdout",
     "output_type": "stream",
     "text": [
      "1\n",
      "3 4\n",
      "1 2 3 4\n",
      "5 6 7 8\n",
      "9 10 11 12\n",
      "159106237111284\n"
     ]
    }
   ],
   "source": [
    "def print_sum(b,m,n):\n",
    "    if(m==0 and n==0):\n",
    "        return\n",
    "    m=len(b)\n",
    "    #print(b)\n",
    "    if b==0:\n",
    "        return\n",
    "    n=len(b[0])\n",
    "    for j in range(n):\n",
    "        if j%2==0:\n",
    "            for i in range(m):\n",
    "                print(b[i][j],end='')\n",
    "            \n",
    "        else:\n",
    "            for i in range(m-1,-1,-1):\n",
    "                print(b[i][j],end='')\n",
    "t=int(input())\n",
    "for k in range(t):\n",
    "    size=input().split()\n",
    "    m=int(size[0])\n",
    "    n=int(size[1])\n",
    "    \n",
    "    b=[]\n",
    "    for i in range(m):\n",
    "        next_row=[int(i) for i in input().split()]\n",
    "        b.append(next_row)\n",
    "    print_sum(b,m,n)\n",
    "    print('')   "
   ]
  },
  {
   "cell_type": "code",
   "execution_count": 88,
   "metadata": {},
   "outputs": [
    {
     "name": "stdout",
     "output_type": "stream",
     "text": [
      "aabbcc\n"
     ]
    },
    {
     "ename": "AttributeError",
     "evalue": "'str' object has no attribute 'append'",
     "output_type": "error",
     "traceback": [
      "\u001b[1;31m---------------------------------------------------------------------------\u001b[0m",
      "\u001b[1;31mAttributeError\u001b[0m                            Traceback (most recent call last)",
      "\u001b[1;32m<ipython-input-88-df972f45ced8>\u001b[0m in \u001b[0;36m<module>\u001b[1;34m\u001b[0m\n\u001b[0;32m      6\u001b[0m     \u001b[1;32mfor\u001b[0m \u001b[0mj\u001b[0m \u001b[1;32min\u001b[0m \u001b[0mrange\u001b[0m\u001b[1;33m(\u001b[0m\u001b[1;36m1\u001b[0m\u001b[1;33m,\u001b[0m\u001b[0mi\u001b[0m\u001b[1;33m+\u001b[0m\u001b[1;36m1\u001b[0m\u001b[1;33m)\u001b[0m\u001b[1;33m:\u001b[0m\u001b[1;33m\u001b[0m\u001b[1;33m\u001b[0m\u001b[0m\n\u001b[0;32m      7\u001b[0m         \u001b[1;32mif\u001b[0m \u001b[0ms\u001b[0m\u001b[1;33m[\u001b[0m\u001b[0mi\u001b[0m\u001b[1;33m]\u001b[0m\u001b[1;33m!=\u001b[0m\u001b[0ms\u001b[0m\u001b[1;33m[\u001b[0m\u001b[0mj\u001b[0m\u001b[1;33m]\u001b[0m\u001b[1;33m:\u001b[0m\u001b[1;33m\u001b[0m\u001b[1;33m\u001b[0m\u001b[0m\n\u001b[1;32m----> 8\u001b[1;33m             \u001b[0mns\u001b[0m\u001b[1;33m.\u001b[0m\u001b[0mappend\u001b[0m\u001b[1;33m(\u001b[0m\u001b[0ms\u001b[0m\u001b[1;33m[\u001b[0m\u001b[0mi\u001b[0m\u001b[1;33m]\u001b[0m\u001b[1;33m)\u001b[0m\u001b[1;33m\u001b[0m\u001b[1;33m\u001b[0m\u001b[0m\n\u001b[0m\u001b[0;32m      9\u001b[0m             \u001b[0mprint\u001b[0m\u001b[1;33m(\u001b[0m\u001b[0mns\u001b[0m\u001b[1;33m)\u001b[0m\u001b[1;33m\u001b[0m\u001b[1;33m\u001b[0m\u001b[0m\n\u001b[0;32m     10\u001b[0m         \u001b[1;32melse\u001b[0m\u001b[1;33m:\u001b[0m\u001b[1;33m\u001b[0m\u001b[1;33m\u001b[0m\u001b[0m\n",
      "\u001b[1;31mAttributeError\u001b[0m: 'str' object has no attribute 'append'"
     ]
    }
   ],
   "source": [
    "s=input()\n",
    "#prev=0\n",
    "ns=''\n",
    "for i in range(len(s)):\n",
    "    \n",
    "    for j in range(1,i+1):\n",
    "        if s[i]!=s[j]:\n",
    "            ns.append(s[i])\n",
    "            print(ns)\n",
    "        else:\n",
    "            break\n",
    "            \n",
    "            \n",
    "\n"
   ]
  },
  {
   "cell_type": "code",
   "execution_count": 93,
   "metadata": {},
   "outputs": [
    {
     "name": "stdout",
     "output_type": "stream",
     "text": [
      "aabbca\n"
     ]
    },
    {
     "ename": "AttributeError",
     "evalue": "'str' object has no attribute 'append'",
     "output_type": "error",
     "traceback": [
      "\u001b[1;31m---------------------------------------------------------------------------\u001b[0m",
      "\u001b[1;31mAttributeError\u001b[0m                            Traceback (most recent call last)",
      "\u001b[1;32m<ipython-input-93-5623d93dabf6>\u001b[0m in \u001b[0;36m<module>\u001b[1;34m\u001b[0m\n\u001b[0;32m      6\u001b[0m \u001b[1;32mfor\u001b[0m \u001b[0melem\u001b[0m \u001b[1;32min\u001b[0m \u001b[0mx\u001b[0m\u001b[1;33m:\u001b[0m\u001b[1;33m\u001b[0m\u001b[1;33m\u001b[0m\u001b[0m\n\u001b[0;32m      7\u001b[0m    \u001b[1;32mif\u001b[0m \u001b[0melem\u001b[0m \u001b[1;33m!=\u001b[0m \u001b[0mprevious_value\u001b[0m\u001b[1;33m:\u001b[0m\u001b[1;33m\u001b[0m\u001b[1;33m\u001b[0m\u001b[0m\n\u001b[1;32m----> 8\u001b[1;33m        \u001b[0mnew_lst\u001b[0m\u001b[1;33m.\u001b[0m\u001b[0mappend\u001b[0m\u001b[1;33m(\u001b[0m\u001b[0melem\u001b[0m\u001b[1;33m)\u001b[0m\u001b[1;33m\u001b[0m\u001b[1;33m\u001b[0m\u001b[0m\n\u001b[0m\u001b[0;32m      9\u001b[0m        \u001b[0mprevious_value\u001b[0m \u001b[1;33m=\u001b[0m \u001b[0melem\u001b[0m\u001b[1;33m\u001b[0m\u001b[1;33m\u001b[0m\u001b[0m\n\u001b[0;32m     10\u001b[0m \u001b[0mprint\u001b[0m\u001b[1;33m(\u001b[0m\u001b[0mnew_lst\u001b[0m\u001b[1;33m)\u001b[0m\u001b[1;33m\u001b[0m\u001b[1;33m\u001b[0m\u001b[0m\n",
      "\u001b[1;31mAttributeError\u001b[0m: 'str' object has no attribute 'append'"
     ]
    }
   ],
   "source": [
    "x = input()\n",
    "\n",
    "previous_value = None\n",
    "new_lst = ''\n",
    "\n",
    "for elem in x:\n",
    "   if elem != previous_value:\n",
    "       new_lst.append(elem)\n",
    "       previous_value = elem\n",
    "print(new_lst)\n"
   ]
  },
  {
   "cell_type": "code",
   "execution_count": 100,
   "metadata": {},
   "outputs": [
    {
     "name": "stdout",
     "output_type": "stream",
     "text": [
      "aaba\n",
      "aba"
     ]
    }
   ],
   "source": [
    "from itertools import groupby \n",
    "t=input()\n",
    "res = [i[0] for i in groupby(t)] \n",
    "for i in range(len(res)):\n",
    "    print(res[i],end='')"
   ]
  },
  {
   "cell_type": "code",
   "execution_count": 132,
   "metadata": {},
   "outputs": [
    {
     "name": "stdout",
     "output_type": "stream",
     "text": [
      "i am nandu lover\n",
      "['i', 'am', 'nandu', 'lover']\n",
      "i ma udnan revol "
     ]
    }
   ],
   "source": [
    "s=input()\n",
    "f=s.split()\n",
    "for i in range(len(f)):\n",
    "    k=f[i][::-1]\n",
    "    print(k,end=' ')\n",
    "    \n",
    "    \n"
   ]
  },
  {
   "cell_type": "code",
   "execution_count": 96,
   "metadata": {},
   "outputs": [
    {
     "name": "stdout",
     "output_type": "stream",
     "text": [
      "['a', 'c', 'c', 'c', 'b', 'b', 'a', 'b', 'a', 'a', 'c', 'c', 'c', 'b', 'b', 'a', 'b', 'a', 'a', 'c', 'c', 'c', 'b', 'b', 'a', 'b', 'a', 'a', 'c', 'c', 'c', 'b', 'b', 'a', 'b', 'a', 'a', 'c', 'c', 'c', 'b', 'b', 'a', 'b', 'a', 'a', 'c', 'c', 'c', 'b', 'b', 'a', 'b', 'a', 'a', 'c', 'c', 'c', 'b', 'b', 'a', 'b', 'a', 'a', 'c', 'c', 'c', 'b', 'b', 'a', 'b', 'a', 'a', 'c', 'c', 'c', 'b', 'b', 'a', 'b', 'a']\n",
      "\n"
     ]
    }
   ],
   "source": [
    "s='acccbbaba'\n",
    "comp=-11\n",
    "nval=''\n",
    "l=[]\n",
    "c=0\n",
    "#l.append(s[0])\n",
    "for i in range(len(s)):\n",
    "    \n",
    "    sum=0\n",
    "    for i in range(len(s)):\n",
    "        c=s.count(s[i])\n",
    "        l.append(s[i])\n",
    "print(l)\n",
    "            \n",
    "            \n",
    "            \n",
    "            #print(sum,' ',s[i])\n",
    "            #if(l[j] == s[j]):\n",
    "                #l.append(s[j])\n",
    "        \n",
    "print(nval)\n"
   ]
  },
  {
   "cell_type": "code",
   "execution_count": 105,
   "metadata": {},
   "outputs": [
    {
     "name": "stdout",
     "output_type": "stream",
     "text": [
      "aabbb\n"
     ]
    },
    {
     "data": {
      "text/plain": [
       "'b'"
      ]
     },
     "execution_count": 105,
     "metadata": {},
     "output_type": "execute_result"
    }
   ],
   "source": [
    "str=input()\n",
    "ASCII_SIZE = 256\n",
    "def OccuringChar(str): \n",
    "    count = [0] * ASCII_SIZE \n",
    "    max = -1\n",
    "    c = '' \n",
    "    for i in str: \n",
    "        count[ord(i)]+=1; \n",
    "    for i in str: \n",
    "        if max < count[ord(i)]: \n",
    "            max = count[ord(i)] \n",
    "            c = i \n",
    "    return c \n",
    "OccuringChar(str)"
   ]
  },
  {
   "cell_type": "code",
   "execution_count": 67,
   "metadata": {},
   "outputs": [
    {
     "name": "stdout",
     "output_type": "stream",
     "text": [
      "[1]\n",
      "[1, 3]\n",
      "[1, 3, 5]\n",
      "[1, 3, 5, 6, 4, 2]\n"
     ]
    }
   ],
   "source": [
    "a=[1,2,3,4,5,6]\n",
    "l_odd=[]\n",
    "l_even=[]\n",
    "l=[]\n",
    "for i in range(len(a)):\n",
    "    if a[i]%2==0:\n",
    "        \n",
    "        l_even.append(a[i])\n",
    "        l_even.sort(reverse=True)\n",
    "        #print(l_even)\n",
    "    else:\n",
    "        l_odd.append(a[i])\n",
    "        print(l_odd)\n",
    "    l=l_odd+l_even\n",
    "print(l)\n",
    "    \n",
    "        \n",
    "        "
   ]
  },
  {
   "cell_type": "code",
   "execution_count": 126,
   "metadata": {},
   "outputs": [
    {
     "name": "stdout",
     "output_type": "stream",
     "text": [
      "1\n",
      "9\n",
      "[1, 3, 5, 7, 9, 8, 6, 4, 2]\n"
     ]
    }
   ],
   "source": [
    "t=int(input())\n",
    "for i in range(t):\n",
    "    n=int(input())\n",
    "    a=[x for x in range(1,n+1)]\n",
    "    \n",
    "    def arrange(a):\n",
    "        l_odd=[]\n",
    "        l_even=[]\n",
    "        l=[]\n",
    "       \n",
    "        for i in range(len(a)):\n",
    "            \n",
    "            if a[i]%2==0:\n",
    "        \n",
    "                l_even.append(a[i])\n",
    "                l_even.sort(reverse=True)\n",
    "        #print(l_even)\n",
    "            else:\n",
    "                l_odd.append(a[i])\n",
    "            #print(l_odd)\n",
    "            l=l_odd+l_even\n",
    "            \n",
    "        print(l)\n",
    "    \n",
    "arrange(a)\n"
   ]
  },
  {
   "cell_type": "code",
   "execution_count": null,
   "metadata": {},
   "outputs": [],
   "source": [
    "res = str(l)[1:-1]\n",
    "    res=res.replace(',', '')"
   ]
  },
  {
   "cell_type": "code",
   "execution_count": 139,
   "metadata": {},
   "outputs": [
    {
     "name": "stdout",
     "output_type": "stream",
     "text": [
      "1\n",
      "9\n",
      "<class 'list'>\n"
     ]
    }
   ],
   "source": [
    "t=int(input())\n",
    "for i in range(t):\n",
    "    n=int(input())\n",
    "    a=[x for x in range(1,n+1)]\n",
    "    l_odd=[]\n",
    "    l_even=[]\n",
    "    l=[]\n",
    "    for i in range(len(a)):\n",
    "        if a[i]%2==0:\n",
    "            l_even.append(a[i])\n",
    "            l_even.sort(reverse=True)\n",
    "        #print(l_even)\n",
    "        else:\n",
    "            l_odd.append(a[i])\n",
    "            #print(l_odd)\n",
    "        l=l_odd+l_even\n",
    "        \n",
    "            \n",
    "    print(type(l))\n",
    "    \n"
   ]
  },
  {
   "cell_type": "code",
   "execution_count": 80,
   "metadata": {},
   "outputs": [
    {
     "name": "stdout",
     "output_type": "stream",
     "text": [
      "1\n",
      "6\n",
      "[6]\n",
      "[6]\n",
      "[6, 6]\n",
      "[6, 6]\n",
      "[6, 6, 6]\n",
      "[6, 6, 6, 6]\n",
      "[6, 6, 6]\n",
      "[6, 6, 6, 6, 6]\n",
      "[6, 6, 6, 6, 6, 6]\n"
     ]
    }
   ],
   "source": [
    "from sys import stdin\n",
    "\n",
    "def arrange(n) :\n",
    "    l_odd=[]\n",
    "    l_even=[]\n",
    "    l=[]\n",
    "    \n",
    "    for i in range(0,n,1):\n",
    "        if a[i]%2==0:\n",
    "        \n",
    "            l_even.append(n)\n",
    "            l_even.sort(reverse=True)\n",
    "        #print(l_even)\n",
    "        else:\n",
    "            l_odd.append(n)\n",
    "            print(l_odd)\n",
    "        l=l_odd+l_even\n",
    "        print(l)\n",
    "t=int(input())\n",
    "for k in range(t):\n",
    "    n=int(input())\n",
    "    arrange(n)\n",
    "    "
   ]
  },
  {
   "cell_type": "code",
   "execution_count": 83,
   "metadata": {},
   "outputs": [
    {
     "name": "stdout",
     "output_type": "stream",
     "text": [
      "aabcd\n"
     ]
    },
    {
     "ename": "NameError",
     "evalue": "name 'count' is not defined",
     "output_type": "error",
     "traceback": [
      "\u001b[1;31m---------------------------------------------------------------------------\u001b[0m",
      "\u001b[1;31mNameError\u001b[0m                                 Traceback (most recent call last)",
      "\u001b[1;32m<ipython-input-83-419cc71f0797>\u001b[0m in \u001b[0;36m<module>\u001b[1;34m\u001b[0m\n\u001b[0;32m      1\u001b[0m \u001b[0ms\u001b[0m\u001b[1;33m=\u001b[0m\u001b[0minput\u001b[0m\u001b[1;33m(\u001b[0m\u001b[1;33m)\u001b[0m\u001b[1;33m\u001b[0m\u001b[1;33m\u001b[0m\u001b[0m\n\u001b[1;32m----> 2\u001b[1;33m \u001b[0mcount\u001b[0m\u001b[1;33m(\u001b[0m\u001b[0ms\u001b[0m\u001b[1;33m)\u001b[0m\u001b[1;33m\u001b[0m\u001b[1;33m\u001b[0m\u001b[0m\n\u001b[0m\u001b[0;32m      3\u001b[0m \u001b[0mprint\u001b[0m\u001b[1;33m(\u001b[0m\u001b[0mcount\u001b[0m\u001b[1;33m(\u001b[0m\u001b[0ms\u001b[0m\u001b[1;33m)\u001b[0m\u001b[1;33m)\u001b[0m\u001b[1;33m\u001b[0m\u001b[1;33m\u001b[0m\u001b[0m\n",
      "\u001b[1;31mNameError\u001b[0m: name 'count' is not defined"
     ]
    }
   ],
   "source": [
    "from sys import stdin\n",
    "\n",
    "def arrange(arr, n) :\n",
    "    l_odd=[]\n",
    "\tl_even=[]\n",
    "\tl=[]\n",
    "\tfor i in range(0,n,1):\n",
    "    \tif a[i]%2==0:\n",
    "        \n",
    "        \tl_even.append(arr[i])\n",
    "        \tl_even.sort(reverse=True)\n",
    "        #print(l_even)\n",
    "    \telse:\n",
    "        \tl_odd.append(arr[i])\n",
    "        \tprint(l_odd)\n",
    "    \tl=l_odd+l_even\n",
    "\tprint(l)\n",
    "\n",
    "\n",
    "\n",
    "\n",
    "\n",
    "\n",
    "\n",
    "\n",
    "\n",
    "\n",
    "\n",
    "\n",
    "\n",
    "\n",
    "\n",
    "\n",
    "#to print the array/list\n",
    "def printList(arr, n) :\n",
    "    for i in range(n) :\n",
    "        print(arr[i], end = ' ')\n",
    "    print()\n",
    "\n",
    "\n",
    "\n",
    "#main\n",
    "t = int(stdin.readline().strip())\n",
    "\n",
    "while t > 0 :\n",
    "    n = int(stdin.readline().strip())\n",
    "    arr = n * [0]\n",
    "    arrange(arr, n)\n",
    "    printList(arr, n)\n",
    "    t -= 1)"
   ]
  },
  {
   "cell_type": "code",
   "execution_count": 164,
   "metadata": {},
   "outputs": [
    {
     "name": "stdout",
     "output_type": "stream",
     "text": [
      "1\n",
      "9\n",
      "1  3  5  7  9  8  6  4  2\n"
     ]
    }
   ],
   "source": [
    "t=int(input())\n",
    "for i in range(t):\n",
    "    n=int(input())\n",
    "    a=[x for x in range(1,n+1)]\n",
    "    l_odd=[]\n",
    "    l_even=[]\n",
    "    l=[]\n",
    "    for i in range(len(a)):\n",
    "        if a[i]%2==0:\n",
    "            l_even.append(a[i])\n",
    "            l_even.sort(reverse=True)\n",
    "        #print(l_even)\n",
    "        else:\n",
    "            l_odd.append(a[i])\n",
    "            #print(l_odd)\n",
    "        l=l_odd+l_even\n",
    "        \n",
    "    #res=str(l)        \n",
    "    res= \", \".join( repr(e) for e in l )\n",
    "    res=res.replace(',',' ')\n",
    "    print(res)"
   ]
  },
  {
   "cell_type": "code",
   "execution_count": 220,
   "metadata": {},
   "outputs": [
    {
     "name": "stdout",
     "output_type": "stream",
     "text": [
      "5\n",
      "13 17 5 4 6\n",
      "17\n",
      "17\n",
      "17\n",
      "5\n"
     ]
    }
   ],
   "source": [
    "n=int(input())\n",
    "a=[int(i) for i in input().split()]\n",
    "n=len(a)\n",
    "for i in range(0,n):\n",
    "    for j in range(i,n:\n",
    "        if a[i]<a[j]:\n",
    "            break\n",
    "        if j==n-1:\n",
    "                   \n",
    "            \n",
    "        \n",
    "            "
   ]
  },
  {
   "cell_type": "code",
   "execution_count": 222,
   "metadata": {
    "scrolled": true
   },
   "outputs": [
    {
     "name": "stdout",
     "output_type": "stream",
     "text": [
      "5\n",
      "13 17 5 4 6\n",
      "17 6 "
     ]
    }
   ],
   "source": [
    "n=int(input())\n",
    "a=[int(i) for i in input().split()]\n",
    "n=len(a)\n",
    "for i in range(0,n):\n",
    "    for j in range(i,n):\n",
    "        if a[i]<a[j]:\n",
    "            break\n",
    "        if j==n-1:\n",
    "           print(a[i],end=' ')"
   ]
  },
  {
   "cell_type": "code",
   "execution_count": null,
   "metadata": {},
   "outputs": [],
   "source": [
    "m=int(input())\n",
    "a=[int(i) for i in input().split()]\n",
    "n=int(input())\n",
    "b=[int(i) for i in input().split()]\n",
    "m=len(a)\n",
    "n=len(b)\n",
    "i=0\n",
    "j=0\n",
    "sum_a=0\n",
    "sum_b=0\n",
    "max_sum=0\n",
    "while i < m and j < n:\n",
    "    if a[i]<b[j]:\n",
    "        sum_a+=a[i]\n",
    "        #print(sum_a)\n",
    "        i=i+1\n",
    "    elif a[i]>b[j]:\n",
    "        sum_b+=b[j]\n",
    "        #print(sum_b)\n",
    "        j=j+1\n",
    "    else:\n",
    "        max_sum+=max(sum_a,sum_b)\n",
    "        sum_a=0\n",
    "        sum_b=0\n",
    "        tmp=i\n",
    "        while i < m and  a[i] == b[j]:\n",
    "            sum_a += a[i]\n",
    "            i += 1\n",
    "        while j<n and a[tmp] == b[j]:\n",
    "                sum_b += b[j]\n",
    "                j += 1\n",
    "        max_sum+=max(sum_a,sum_b)\n",
    "        sum_a=0\n",
    "        sum_b=0\n",
    "while i < m:\n",
    "    sum_a += a[i]\n",
    "    i += 1\n",
    "while j<n:\n",
    "    sum_b+=b[j]\n",
    "    j+=1\n",
    "max_sum+=max(sum_a,sum_b)\n",
    "print(type(max_sum))\n",
    "    \n",
    "            \n",
    "        "
   ]
  },
  {
   "cell_type": "code",
   "execution_count": null,
   "metadata": {},
   "outputs": [],
   "source": [
    "def maxPathSum(ar1, ar2):\n",
    "    m=len(ar1)\n",
    "    n=len(ar2)\n",
    "    max=0\n",
    "    suma=0\n",
    "    sumb=0\n",
    "    i=0\n",
    "    j=0\n",
    "    while(i<m and j<n):\n",
    "        if(ar1[i]==ar2[j]):\n",
    "            max += suma if suma>sumb else sumb\n",
    "            max += ar1[i]\n",
    "            i+=1\n",
    "            j+=1\n",
    "            suma = sumb = 0\n",
    "        elif(ar1[i]<ar2[j]):\n",
    "            suma += ar1[i]\n",
    "            i += 1\n",
    "        else:\n",
    "            sumb += ar2[j]\n",
    "            j += 1\n",
    "    while (i<m):\n",
    "        suma += ar1[i]\n",
    "        i += 1\n",
    "    while (j<n):\n",
    "        sumb += ar2[j]\n",
    "        j += 1\n",
    "    max += suma if suma>sumb else sumb\n",
    "    return max\n",
    "n1=int(input())\n",
    "arr1=list(int(i) for i in input().strip().split(' '))\n",
    "n2=int(input())\n",
    "arr2=list(int(i) for i in input().strip().split(' '))\n",
    "sum=maxPathSum(arr1, arr2)\n",
    "print(sum)"
   ]
  },
  {
   "cell_type": "code",
   "execution_count": null,
   "metadata": {},
   "outputs": [],
   "source": [
    "def maxPathSum(ar1, ar2):\n",
    "    m=len(ar1)\n",
    "    n=len(ar2)\n",
    "    max=0\n",
    "    suma=0\n",
    "    sumb=0\n",
    "    i=0\n",
    "    j=0\n",
    "\twhile(i<m and j<n):\n",
    "\t\tif(ar1[i]==ar2[j]):\n",
    "\t\t\tmax += suma if suma>sumb else sumb\n",
    "\t\t\tmax += ar1[i]\n",
    "\t\t\ti+=1\n",
    "\t\t\tj+=1\n",
    "\t\t\tsuma = sumb = 0\n",
    "\t\telif(ar1[i]<ar2[j]):\n",
    "\t\t\tsuma += ar1[i]\n",
    "\t\t\ti += 1\n",
    "\t\telse:\n",
    "\t\t\tsumb += ar2[j]\n",
    "\t\t\tj += 1\n",
    "\twhile (i<m):\n",
    "\t\tsuma += ar1[i]\n",
    "\t\ti += 1\n",
    "\twhile (j<n):\n",
    "\t\tsumb += ar2[j]\n",
    "\t\tj += 1\n",
    "\tmax += suma if suma>sumb else sumb\n",
    "\treturn max\n",
    "n1=int(input())\n",
    "arr1=list(int(i) for i in input().strip().split(' '))\n",
    "n2=int(input())\n",
    "arr2=list(int(i) for i in input().strip().split(' '))\n",
    "sum=maxPathSum(arr1, arr2)\n",
    "print(sum)"
   ]
  },
  {
   "cell_type": "code",
   "execution_count": 12,
   "metadata": {},
   "outputs": [
    {
     "data": {
      "text/plain": [
       "[[0, 1, 2, 3, 4],\n",
       " [0, 1, 2, 3, 4],\n",
       " [0, 1, 2, 3, 4],\n",
       " [0, 1, 2, 3, 4],\n",
       " [0, 1, 2, 3, 4],\n",
       " [0, 1, 2, 3, 4],\n",
       " [0, 1, 2, 3, 4],\n",
       " [0, 1, 2, 3, 4],\n",
       " [0, 1, 2, 3, 4],\n",
       " [0, 1, 2, 3, 4]]"
      ]
     },
     "execution_count": 12,
     "metadata": {},
     "output_type": "execute_result"
    }
   ],
   "source": [
    "b=[[j for j in range(5)] for i in range(10)]\n",
    "b"
   ]
  },
  {
   "cell_type": "code",
   "execution_count": 3,
   "metadata": {},
   "outputs": [
    {
     "name": "stdout",
     "output_type": "stream",
     "text": [
      "2\n",
      "3 3\n",
      "3 6 9\n",
      "1 4 7\n",
      "2 8 9\n"
     ]
    },
    {
     "ename": "ValueError",
     "evalue": "invalid literal for int() with base 10: \"'column', 2, 25\"",
     "output_type": "error",
     "traceback": [
      "\u001b[1;31m---------------------------------------------------------------------------\u001b[0m",
      "\u001b[1;31mValueError\u001b[0m                                Traceback (most recent call last)",
      "\u001b[1;32m<ipython-input-3-a3c7919f3fe9>\u001b[0m in \u001b[0;36m<module>\u001b[1;34m\u001b[0m\n\u001b[0;32m     45\u001b[0m         \u001b[0mnext_row\u001b[0m\u001b[1;33m=\u001b[0m\u001b[1;33m[\u001b[0m\u001b[0mint\u001b[0m\u001b[1;33m(\u001b[0m\u001b[0mi\u001b[0m\u001b[1;33m)\u001b[0m \u001b[1;32mfor\u001b[0m \u001b[0mi\u001b[0m \u001b[1;32min\u001b[0m \u001b[0minput\u001b[0m\u001b[1;33m(\u001b[0m\u001b[1;33m)\u001b[0m\u001b[1;33m.\u001b[0m\u001b[0msplit\u001b[0m\u001b[1;33m(\u001b[0m\u001b[1;33m)\u001b[0m\u001b[1;33m]\u001b[0m\u001b[1;33m\u001b[0m\u001b[1;33m\u001b[0m\u001b[0m\n\u001b[0;32m     46\u001b[0m         \u001b[0mb\u001b[0m\u001b[1;33m.\u001b[0m\u001b[0mappend\u001b[0m\u001b[1;33m(\u001b[0m\u001b[0mnext_row\u001b[0m\u001b[1;33m)\u001b[0m\u001b[1;33m\u001b[0m\u001b[1;33m\u001b[0m\u001b[0m\n\u001b[1;32m---> 47\u001b[1;33m     \u001b[0mmaximumSum\u001b[0m\u001b[1;33m(\u001b[0m\u001b[0mb\u001b[0m\u001b[1;33m)\u001b[0m\u001b[1;33m\u001b[0m\u001b[1;33m\u001b[0m\u001b[0m\n\u001b[0m\u001b[0;32m     48\u001b[0m \u001b[1;33m\u001b[0m\u001b[0m\n",
      "\u001b[1;32m<ipython-input-3-a3c7919f3fe9>\u001b[0m in \u001b[0;36mmaximumSum\u001b[1;34m(b)\u001b[0m\n\u001b[0;32m     31\u001b[0m     \u001b[1;31m#print(res_col)\u001b[0m\u001b[1;33m\u001b[0m\u001b[1;33m\u001b[0m\u001b[1;33m\u001b[0m\u001b[0m\n\u001b[0;32m     32\u001b[0m     \u001b[1;32mif\u001b[0m \u001b[0mmaxSum_row\u001b[0m \u001b[1;33m<\u001b[0m \u001b[0mmaxSum_col\u001b[0m\u001b[1;33m:\u001b[0m\u001b[1;33m\u001b[0m\u001b[1;33m\u001b[0m\u001b[0m\n\u001b[1;32m---> 33\u001b[1;33m         \u001b[0mprint\u001b[0m\u001b[1;33m(\u001b[0m\u001b[0mint\u001b[0m\u001b[1;33m(\u001b[0m\u001b[0mres_col\u001b[0m\u001b[1;33m)\u001b[0m\u001b[1;33m)\u001b[0m\u001b[1;33m\u001b[0m\u001b[1;33m\u001b[0m\u001b[0m\n\u001b[0m\u001b[0;32m     34\u001b[0m     \u001b[1;32melif\u001b[0m \u001b[0mmaxSum_row\u001b[0m \u001b[1;33m==\u001b[0m \u001b[0mmaxSum_col\u001b[0m\u001b[1;33m:\u001b[0m\u001b[1;33m\u001b[0m\u001b[1;33m\u001b[0m\u001b[0m\n\u001b[0;32m     35\u001b[0m         \u001b[0mprint\u001b[0m\u001b[1;33m(\u001b[0m\u001b[0mint\u001b[0m\u001b[1;33m(\u001b[0m\u001b[0mres_row\u001b[0m\u001b[1;33m)\u001b[0m\u001b[1;33m)\u001b[0m\u001b[1;33m\u001b[0m\u001b[1;33m\u001b[0m\u001b[0m\n",
      "\u001b[1;31mValueError\u001b[0m: invalid literal for int() with base 10: \"'column', 2, 25\""
     ]
    }
   ],
   "source": [
    "import sys \n",
    "\n",
    "def maximumSum(b):\n",
    "    n=len(b)\n",
    "    m=len(b[0])\n",
    "    idx = 0\n",
    "    maxSum_row = -sys.maxsize \n",
    "    for i in range(n):  \n",
    "        sum = 0\n",
    "        for j in range(m):  \n",
    "            sum += b[i][j]  \n",
    "        if (sum > maxSum_row): \n",
    "            maxSum_row = sum\n",
    "            idx = i  \n",
    "  \n",
    "    res_row = [\"row\",idx, maxSum_row]\n",
    "    res_row = str(res_)[1:-1]\n",
    "    #print(res_row) \n",
    "    idx_col=0\n",
    "    maxSum_col=-sys.maxsize \n",
    "    for j in range(m):\n",
    "        sum=0\n",
    "        for i in range(n):\n",
    "            sum+=b[i][j]\n",
    "        if (sum > maxSum_col):\n",
    "            maxSum_col=sum\n",
    "            idx_col=j\n",
    "    res_col=[\"column\",idx_col, maxSum_col]\n",
    "    res_col = str(res_col)[1:-1]\n",
    "    #print(res_col)\n",
    "    #print(res_col)\n",
    "    if maxSum_row < maxSum_col:\n",
    "        print(res_col)\n",
    "    elif maxSum_row == maxSum_col:\n",
    "        print(res_row)\n",
    "    else:\n",
    "        print(res_row)\n",
    "t=int(input())\n",
    "for k in range(t):\n",
    "    size=input().split()\n",
    "    m=int(size[0])\n",
    "    n=int(size[1])\n",
    "    b=[]\n",
    "    for i in range(m):\n",
    "        next_row=[int(i) for i in input().split()]\n",
    "        b.append(next_row) \n",
    "    maximumSum(b)\n",
    "        "
   ]
  },
  {
   "cell_type": "code",
   "execution_count": null,
   "metadata": {},
   "outputs": [],
   "source": [
    "2\n",
    "3 3\n",
    "3 6 9 \n",
    "1 4 7 \n",
    "2 8 9\n",
    "4 2\n",
    "1 2\n",
    "90 100\n",
    "3 40\n",
    "-10 200"
   ]
  },
  {
   "cell_type": "code",
   "execution_count": 109,
   "metadata": {},
   "outputs": [
    {
     "name": "stdout",
     "output_type": "stream",
     "text": [
      "['column', 3, 36]\n"
     ]
    }
   ],
   "source": [
    "import sys \n",
    "mat = [[ 1, 2, 3, 4, 5],  \n",
    "       [ 5, 3, 1, 4, 2],  \n",
    "       [ 5, 0, 0, 8, 9],  \n",
    "       [ 0, 6, 3, 4, 12],  \n",
    "       [ 0, 7, 0, 16, 0]] \n",
    "n=len(mat)\n",
    "m=len(mat[0])\n",
    "def maximumSum(mat):\n",
    "    idx_col=-1\n",
    "    maxSum_col=-sys.maxsize \n",
    "    for j in range(m):\n",
    "        sum=0\n",
    "        for i in range(n):\n",
    "            sum+=mat[i][j]\n",
    "        if (sum > maxSum_col):\n",
    "            maxSum_col=sum\n",
    "            idx_col=j\n",
    "    res_col=[\"column\",idx_col, maxSum_col]\n",
    "    print(res_col)\n",
    "t=int(input())\n",
    "for k in range(t):\n",
    "    size=input().split()\n",
    "    m=int(size[0])\n",
    "    n=int(size[1])\n",
    "    b=[]\n",
    "    for i in range(m):\n",
    "        next_row=[int(i) for i in input().split()]\n",
    "        b.append(next_row)\n",
    "maximumSum(mat)"
   ]
  }
 ],
 "metadata": {
  "kernelspec": {
   "display_name": "Python 3",
   "language": "python",
   "name": "python3"
  },
  "language_info": {
   "codemirror_mode": {
    "name": "ipython",
    "version": 3
   },
   "file_extension": ".py",
   "mimetype": "text/x-python",
   "name": "python",
   "nbconvert_exporter": "python",
   "pygments_lexer": "ipython3",
   "version": "3.8.3"
  }
 },
 "nbformat": 4,
 "nbformat_minor": 4
}
